{
 "cells": [
  {
   "cell_type": "markdown",
   "metadata": {},
   "source": [
    "# **Calculate Course Similarity using BoW Features**\n"
   ]
  },
  {
   "cell_type": "code",
   "execution_count": 1,
   "metadata": {
    "tags": []
   },
   "outputs": [],
   "source": [
    "# uncomment the below imports if you haven't done it before\n",
    "# !pip install nltk==3.6.7\n",
    "# !pip install gensim==4.1.2"
   ]
  },
  {
   "cell_type": "code",
   "execution_count": 2,
   "metadata": {},
   "outputs": [],
   "source": [
    "import seaborn as sns\n",
    "import matplotlib.pyplot as plt\n",
    "import pandas as pd\n",
    "import numpy as np\n",
    "import gensim\n",
    "import pandas as pd\n",
    "import nltk as nltk\n",
    "\n",
    "from scipy.spatial.distance import cosine\n",
    "from nltk.corpus import stopwords\n",
    "from nltk.tokenize import word_tokenize\n",
    "from nltk import ngrams\n",
    "from gensim import corpora\n",
    "\n",
    "%matplotlib inline"
   ]
  },
  {
   "cell_type": "code",
   "execution_count": 3,
   "metadata": {},
   "outputs": [],
   "source": [
    "# also set a random state\n",
    "rs = 123"
   ]
  },
  {
   "cell_type": "markdown",
   "metadata": {},
   "source": [
    "### Calculate the consine similarity between two example courses\n"
   ]
  },
  {
   "cell_type": "markdown",
   "metadata": {},
   "source": [
    "Suppose we have two simple example courses:\n"
   ]
  },
  {
   "cell_type": "code",
   "execution_count": 4,
   "metadata": {},
   "outputs": [],
   "source": [
    "course1 = \"machine learning for everyone\""
   ]
  },
  {
   "cell_type": "code",
   "execution_count": 5,
   "metadata": {},
   "outputs": [],
   "source": [
    "course2 = \"machine learning for beginners\""
   ]
  },
  {
   "cell_type": "markdown",
   "metadata": {},
   "source": [
    "Next we can quickly tokenize them using the split() method (or using `word_tokenize()` method provided in `nltk` as we did in the previous lab).\n"
   ]
  },
  {
   "cell_type": "code",
   "execution_count": 6,
   "metadata": {},
   "outputs": [],
   "source": [
    "tokens = set(course1.split() + course2.split())"
   ]
  },
  {
   "cell_type": "code",
   "execution_count": 7,
   "metadata": {},
   "outputs": [
    {
     "data": {
      "text/plain": [
       "['learning', 'for', 'everyone', 'beginners', 'machine']"
      ]
     },
     "execution_count": 7,
     "metadata": {},
     "output_type": "execute_result"
    }
   ],
   "source": [
    "tokens = list(tokens)\n",
    "tokens"
   ]
  },
  {
   "cell_type": "markdown",
   "metadata": {},
   "source": [
    "then generate BoW features (token counts) for these two courses (or using `tokens_dict.doc2bow()` method provided in `nltk`, similar to what we did in the previous lab).\n"
   ]
  },
  {
   "cell_type": "code",
   "execution_count": 8,
   "metadata": {},
   "outputs": [],
   "source": [
    "def generate_sparse_bow(course):\n",
    "    bow_vector = []\n",
    "    words = course.split()\n",
    "    for token in tokens:\n",
    "        if token in words:\n",
    "            bow_vector.append(1)\n",
    "        else:\n",
    "            bow_vector.append(0)\n",
    "    return bow_vector"
   ]
  },
  {
   "cell_type": "code",
   "execution_count": 9,
   "metadata": {},
   "outputs": [
    {
     "data": {
      "text/plain": [
       "[1, 1, 1, 0, 1]"
      ]
     },
     "execution_count": 9,
     "metadata": {},
     "output_type": "execute_result"
    }
   ],
   "source": [
    "bow1 = generate_sparse_bow(course1)\n",
    "bow1"
   ]
  },
  {
   "cell_type": "code",
   "execution_count": 10,
   "metadata": {},
   "outputs": [
    {
     "data": {
      "text/plain": [
       "[1, 1, 0, 1, 1]"
      ]
     },
     "execution_count": 10,
     "metadata": {},
     "output_type": "execute_result"
    }
   ],
   "source": [
    "bow2 = generate_sparse_bow(course2)\n",
    "bow2"
   ]
  },
  {
   "cell_type": "markdown",
   "metadata": {},
   "source": [
    "From the above cell outputs, we can see the two vectors are very similar. Only two dimensions are different.\n"
   ]
  },
  {
   "cell_type": "markdown",
   "metadata": {},
   "source": [
    "Now we can quickly apply the cosine similarity measurement on the two vectors:\n"
   ]
  },
  {
   "cell_type": "code",
   "execution_count": 11,
   "metadata": {},
   "outputs": [],
   "source": [
    "cos_sim = 1 - cosine(bow1, bow2)"
   ]
  },
  {
   "cell_type": "code",
   "execution_count": 12,
   "metadata": {},
   "outputs": [
    {
     "name": "stdout",
     "output_type": "stream",
     "text": [
      "The cosine similarity between course 'machine learning for everyone' and course 'machine learning for beginners' is 75.0%\n"
     ]
    }
   ],
   "source": [
    "print(f\"The cosine similarity between course '{course1}' and course \\\n",
    "'{course2}' is {round(cos_sim, 2) * 100}%\")"
   ]
  },
  {
   "cell_type": "markdown",
   "metadata": {},
   "source": [
    "_Practice: Try other similarity measurements such as Euclidean Distance or Jaccard index._\n"
   ]
  },
  {
   "cell_type": "code",
   "execution_count": 13,
   "metadata": {},
   "outputs": [
    {
     "name": "stdout",
     "output_type": "stream",
     "text": [
      "MATH MODULE:\n",
      "The Euclidean distance is 1.4142135623730951\n",
      "\n",
      "SCIPY MODULE:\n",
      "The Euclidean distance is 1.4142135623730951\n",
      "\n",
      "BY FORMULA:\n",
      "The Euclidean distance is 1.4142135623730951\n",
      "\n"
     ]
    }
   ],
   "source": [
    "# WRITE YOUR CODE HERE\n",
    "\n",
    "import math\n",
    "print(f\"MATH MODULE:\\nThe Euclidean distance is {math.dist(bow1, bow2)}\\n\")\n",
    "\n",
    "from scipy.spatial import distance\n",
    "print(f\"SCIPY MODULE:\\nThe Euclidean distance is {distance.euclidean(bow1, bow2)}\\n\")\n",
    "\n",
    "def eucl(l1, l2):\n",
    "    z = []\n",
    "    for i in range(len(l1)):\n",
    "        z.append((l1[i]-l2[i])**2)\n",
    "    return sum(z)**0.5\n",
    "\n",
    "print(f\"BY FORMULA:\\nThe Euclidean distance is {eucl(bow1, bow2)}\\n\")\n"
   ]
  },
  {
   "cell_type": "markdown",
   "metadata": {},
   "source": [
    "For Example: Euclidean distance between 2 points $p$ and $q$ can be summarized by this equation: $d(p,q)={\\sqrt {(p_{1}-q_{1})^{2}+(p_{2}-q_{2})^{2}+(p_{3}-q_{3})^{2}}}$. You can use `euclidean(p,q)` function from ```scipy``` package to calculate it. \n"
   ]
  },
  {
   "cell_type": "markdown",
   "metadata": {},
   "source": [
    ">The Jaccard similarity index measures the similarity between two sets of data. It can range from 0 to 1. The higher the number, the more similar the two sets of data."
   ]
  },
  {
   "cell_type": "code",
   "execution_count": 14,
   "metadata": {},
   "outputs": [
    {
     "name": "stdout",
     "output_type": "stream",
     "text": [
      "['machine', 'learning', 'for', 'everyone']\n",
      "['machine', 'learning', 'for', 'beginners']\n"
     ]
    }
   ],
   "source": [
    "print(course1.split(), course2.split(), sep='\\n')"
   ]
  },
  {
   "cell_type": "code",
   "execution_count": 15,
   "metadata": {},
   "outputs": [
    {
     "name": "stdout",
     "output_type": "stream",
     "text": [
      "BY FORMULA:\n",
      "The Jaccard index 0.6\n"
     ]
    }
   ],
   "source": [
    "# Jaccard index:\n",
    "\n",
    "def jaccard(list1, list2):\n",
    "    intersection = len(list(set(list1).intersection(list2)))\n",
    "    union = (len(list1) + len(list2)) - intersection\n",
    "    return float(intersection) / union\n",
    "\n",
    "print(f\"BY FORMULA:\\nThe Jaccard index {jaccard(course1.split(), course2.split())}\")\n"
   ]
  },
  {
   "cell_type": "markdown",
   "metadata": {},
   "source": [
    "### TASK: Find similar courses to the course `Machine Learning with Python`\n"
   ]
  },
  {
   "cell_type": "markdown",
   "metadata": {},
   "source": [
    "Now you have learned how to calculate cosine similarity between two sample BoW feature vectors. Let's work on some real course BoW feature vectors.\n"
   ]
  },
  {
   "cell_type": "code",
   "execution_count": 16,
   "metadata": {},
   "outputs": [],
   "source": [
    "# Load the BoW features as Pandas dataframe\n",
    "bows_url = \"https://cf-courses-data.s3.us.cloud-object-storage.appdomain.cloud/IBM-ML321EN-SkillsNetwork/labs/datasets/courses_bows.csv\"\n",
    "bows_df = pd.read_csv(bows_url)\n",
    "bows_df = bows_df[['doc_id', 'token', 'bow']]"
   ]
  },
  {
   "cell_type": "code",
   "execution_count": 17,
   "metadata": {},
   "outputs": [
    {
     "data": {
      "text/html": [
       "<div>\n",
       "<style scoped>\n",
       "    .dataframe tbody tr th:only-of-type {\n",
       "        vertical-align: middle;\n",
       "    }\n",
       "\n",
       "    .dataframe tbody tr th {\n",
       "        vertical-align: top;\n",
       "    }\n",
       "\n",
       "    .dataframe thead th {\n",
       "        text-align: right;\n",
       "    }\n",
       "</style>\n",
       "<table border=\"1\" class=\"dataframe\">\n",
       "  <thead>\n",
       "    <tr style=\"text-align: right;\">\n",
       "      <th></th>\n",
       "      <th>doc_id</th>\n",
       "      <th>token</th>\n",
       "      <th>bow</th>\n",
       "    </tr>\n",
       "  </thead>\n",
       "  <tbody>\n",
       "    <tr>\n",
       "      <th>0</th>\n",
       "      <td>ML0201EN</td>\n",
       "      <td>ai</td>\n",
       "      <td>2</td>\n",
       "    </tr>\n",
       "    <tr>\n",
       "      <th>1</th>\n",
       "      <td>ML0201EN</td>\n",
       "      <td>apps</td>\n",
       "      <td>2</td>\n",
       "    </tr>\n",
       "    <tr>\n",
       "      <th>2</th>\n",
       "      <td>ML0201EN</td>\n",
       "      <td>build</td>\n",
       "      <td>2</td>\n",
       "    </tr>\n",
       "    <tr>\n",
       "      <th>3</th>\n",
       "      <td>ML0201EN</td>\n",
       "      <td>cloud</td>\n",
       "      <td>1</td>\n",
       "    </tr>\n",
       "    <tr>\n",
       "      <th>4</th>\n",
       "      <td>ML0201EN</td>\n",
       "      <td>coming</td>\n",
       "      <td>1</td>\n",
       "    </tr>\n",
       "    <tr>\n",
       "      <th>5</th>\n",
       "      <td>ML0201EN</td>\n",
       "      <td>create</td>\n",
       "      <td>1</td>\n",
       "    </tr>\n",
       "    <tr>\n",
       "      <th>6</th>\n",
       "      <td>ML0201EN</td>\n",
       "      <td>data</td>\n",
       "      <td>1</td>\n",
       "    </tr>\n",
       "    <tr>\n",
       "      <th>7</th>\n",
       "      <td>ML0201EN</td>\n",
       "      <td>developer</td>\n",
       "      <td>1</td>\n",
       "    </tr>\n",
       "    <tr>\n",
       "      <th>8</th>\n",
       "      <td>ML0201EN</td>\n",
       "      <td>found</td>\n",
       "      <td>1</td>\n",
       "    </tr>\n",
       "    <tr>\n",
       "      <th>9</th>\n",
       "      <td>ML0201EN</td>\n",
       "      <td>fun</td>\n",
       "      <td>1</td>\n",
       "    </tr>\n",
       "  </tbody>\n",
       "</table>\n",
       "</div>"
      ],
      "text/plain": [
       "     doc_id      token  bow\n",
       "0  ML0201EN         ai    2\n",
       "1  ML0201EN       apps    2\n",
       "2  ML0201EN      build    2\n",
       "3  ML0201EN      cloud    1\n",
       "4  ML0201EN     coming    1\n",
       "5  ML0201EN     create    1\n",
       "6  ML0201EN       data    1\n",
       "7  ML0201EN  developer    1\n",
       "8  ML0201EN      found    1\n",
       "9  ML0201EN        fun    1"
      ]
     },
     "execution_count": 17,
     "metadata": {},
     "output_type": "execute_result"
    }
   ],
   "source": [
    "bows_df.head(10)"
   ]
  },
  {
   "cell_type": "markdown",
   "metadata": {},
   "source": [
    "The `bows_df` dataframe contains the BoW features vectors for each course, in a vertical and dense format. It has three columns `doc_id` represents the course id, `token` represents the token value, and `bow` represents the BoW value (token count).\n"
   ]
  },
  {
   "cell_type": "markdown",
   "metadata": {},
   "source": [
    "Then, let's load another course content dataset which contains the course title and description:\n"
   ]
  },
  {
   "cell_type": "code",
   "execution_count": 18,
   "metadata": {},
   "outputs": [],
   "source": [
    "# Load the course dataframe\n",
    "course_url = \"https://cf-courses-data.s3.us.cloud-object-storage.appdomain.cloud/IBM-ML321EN-SkillsNetwork/labs/datasets/course_processed.csv\"\n",
    "course_df = pd.read_csv(course_url)"
   ]
  },
  {
   "cell_type": "code",
   "execution_count": 19,
   "metadata": {},
   "outputs": [
    {
     "data": {
      "text/html": [
       "<div>\n",
       "<style scoped>\n",
       "    .dataframe tbody tr th:only-of-type {\n",
       "        vertical-align: middle;\n",
       "    }\n",
       "\n",
       "    .dataframe tbody tr th {\n",
       "        vertical-align: top;\n",
       "    }\n",
       "\n",
       "    .dataframe thead th {\n",
       "        text-align: right;\n",
       "    }\n",
       "</style>\n",
       "<table border=\"1\" class=\"dataframe\">\n",
       "  <thead>\n",
       "    <tr style=\"text-align: right;\">\n",
       "      <th></th>\n",
       "      <th>COURSE_ID</th>\n",
       "      <th>TITLE</th>\n",
       "      <th>DESCRIPTION</th>\n",
       "    </tr>\n",
       "  </thead>\n",
       "  <tbody>\n",
       "    <tr>\n",
       "      <th>0</th>\n",
       "      <td>ML0201EN</td>\n",
       "      <td>robots are coming  build iot apps with watson ...</td>\n",
       "      <td>have fun with iot and learn along the way  if ...</td>\n",
       "    </tr>\n",
       "    <tr>\n",
       "      <th>1</th>\n",
       "      <td>ML0122EN</td>\n",
       "      <td>accelerating deep learning with gpu</td>\n",
       "      <td>training complex deep learning models with lar...</td>\n",
       "    </tr>\n",
       "    <tr>\n",
       "      <th>2</th>\n",
       "      <td>GPXX0ZG0EN</td>\n",
       "      <td>consuming restful services using the reactive ...</td>\n",
       "      <td>learn how to use a reactive jax rs client to a...</td>\n",
       "    </tr>\n",
       "    <tr>\n",
       "      <th>3</th>\n",
       "      <td>RP0105EN</td>\n",
       "      <td>analyzing big data in r using apache spark</td>\n",
       "      <td>apache spark is a popular cluster computing fr...</td>\n",
       "    </tr>\n",
       "    <tr>\n",
       "      <th>4</th>\n",
       "      <td>GPXX0Z2PEN</td>\n",
       "      <td>containerizing  packaging  and running a sprin...</td>\n",
       "      <td>learn how to containerize  package  and run a ...</td>\n",
       "    </tr>\n",
       "    <tr>\n",
       "      <th>5</th>\n",
       "      <td>CNSC02EN</td>\n",
       "      <td>cloud native security conference   data security</td>\n",
       "      <td>introduction to data security on cloud</td>\n",
       "    </tr>\n",
       "    <tr>\n",
       "      <th>6</th>\n",
       "      <td>DX0106EN</td>\n",
       "      <td>data science bootcamp with r for university pr...</td>\n",
       "      <td>a multi day intensive  in person data science ...</td>\n",
       "    </tr>\n",
       "    <tr>\n",
       "      <th>7</th>\n",
       "      <td>GPXX0FTCEN</td>\n",
       "      <td>learn how to use docker containers for iterati...</td>\n",
       "      <td>learn how to use docker containers for iterati...</td>\n",
       "    </tr>\n",
       "    <tr>\n",
       "      <th>8</th>\n",
       "      <td>RAVSCTEST1</td>\n",
       "      <td>scorm test 1</td>\n",
       "      <td>scron test course</td>\n",
       "    </tr>\n",
       "    <tr>\n",
       "      <th>9</th>\n",
       "      <td>GPXX06RFEN</td>\n",
       "      <td>create your first mongodb database</td>\n",
       "      <td>in this guided project  you will get started w...</td>\n",
       "    </tr>\n",
       "  </tbody>\n",
       "</table>\n",
       "</div>"
      ],
      "text/plain": [
       "    COURSE_ID                                              TITLE  \\\n",
       "0    ML0201EN  robots are coming  build iot apps with watson ...   \n",
       "1    ML0122EN                accelerating deep learning with gpu   \n",
       "2  GPXX0ZG0EN  consuming restful services using the reactive ...   \n",
       "3    RP0105EN         analyzing big data in r using apache spark   \n",
       "4  GPXX0Z2PEN  containerizing  packaging  and running a sprin...   \n",
       "5    CNSC02EN   cloud native security conference   data security   \n",
       "6    DX0106EN  data science bootcamp with r for university pr...   \n",
       "7  GPXX0FTCEN  learn how to use docker containers for iterati...   \n",
       "8  RAVSCTEST1                                       scorm test 1   \n",
       "9  GPXX06RFEN                 create your first mongodb database   \n",
       "\n",
       "                                         DESCRIPTION  \n",
       "0  have fun with iot and learn along the way  if ...  \n",
       "1  training complex deep learning models with lar...  \n",
       "2  learn how to use a reactive jax rs client to a...  \n",
       "3  apache spark is a popular cluster computing fr...  \n",
       "4  learn how to containerize  package  and run a ...  \n",
       "5             introduction to data security on cloud  \n",
       "6  a multi day intensive  in person data science ...  \n",
       "7  learn how to use docker containers for iterati...  \n",
       "8                                  scron test course  \n",
       "9  in this guided project  you will get started w...  "
      ]
     },
     "execution_count": 19,
     "metadata": {},
     "output_type": "execute_result"
    }
   ],
   "source": [
    "course_df.head(10)"
   ]
  },
  {
   "cell_type": "markdown",
   "metadata": {},
   "source": [
    "Given course ID `ML0101ENv3`, let's find out its title and description:\n"
   ]
  },
  {
   "cell_type": "code",
   "execution_count": 20,
   "metadata": {},
   "outputs": [
    {
     "data": {
      "text/html": [
       "<div>\n",
       "<style scoped>\n",
       "    .dataframe tbody tr th:only-of-type {\n",
       "        vertical-align: middle;\n",
       "    }\n",
       "\n",
       "    .dataframe tbody tr th {\n",
       "        vertical-align: top;\n",
       "    }\n",
       "\n",
       "    .dataframe thead th {\n",
       "        text-align: right;\n",
       "    }\n",
       "</style>\n",
       "<table border=\"1\" class=\"dataframe\">\n",
       "  <thead>\n",
       "    <tr style=\"text-align: right;\">\n",
       "      <th></th>\n",
       "      <th>COURSE_ID</th>\n",
       "      <th>TITLE</th>\n",
       "      <th>DESCRIPTION</th>\n",
       "    </tr>\n",
       "  </thead>\n",
       "  <tbody>\n",
       "    <tr>\n",
       "      <th>158</th>\n",
       "      <td>ML0101ENv3</td>\n",
       "      <td>machine learning with python</td>\n",
       "      <td>machine learning can be an incredibly benefici...</td>\n",
       "    </tr>\n",
       "  </tbody>\n",
       "</table>\n",
       "</div>"
      ],
      "text/plain": [
       "      COURSE_ID                         TITLE  \\\n",
       "158  ML0101ENv3  machine learning with python   \n",
       "\n",
       "                                           DESCRIPTION  \n",
       "158  machine learning can be an incredibly benefici...  "
      ]
     },
     "execution_count": 20,
     "metadata": {},
     "output_type": "execute_result"
    }
   ],
   "source": [
    "course_df[course_df['COURSE_ID'] == 'ML0101ENv3']"
   ]
  },
  {
   "cell_type": "markdown",
   "metadata": {},
   "source": [
    "We can see it is a machine learning with Python course so we can expect any machine learning or Python related courses would be similar.\n"
   ]
  },
  {
   "cell_type": "markdown",
   "metadata": {},
   "source": [
    "Then, let's print its associated BoW features:\n"
   ]
  },
  {
   "cell_type": "code",
   "execution_count": 21,
   "metadata": {},
   "outputs": [
    {
     "data": {
      "text/html": [
       "<div>\n",
       "<style scoped>\n",
       "    .dataframe tbody tr th:only-of-type {\n",
       "        vertical-align: middle;\n",
       "    }\n",
       "\n",
       "    .dataframe tbody tr th {\n",
       "        vertical-align: top;\n",
       "    }\n",
       "\n",
       "    .dataframe thead th {\n",
       "        text-align: right;\n",
       "    }\n",
       "</style>\n",
       "<table border=\"1\" class=\"dataframe\">\n",
       "  <thead>\n",
       "    <tr style=\"text-align: right;\">\n",
       "      <th></th>\n",
       "      <th>doc_id</th>\n",
       "      <th>token</th>\n",
       "      <th>bow</th>\n",
       "    </tr>\n",
       "  </thead>\n",
       "  <tbody>\n",
       "    <tr>\n",
       "      <th>2747</th>\n",
       "      <td>ML0101ENv3</td>\n",
       "      <td>course</td>\n",
       "      <td>1</td>\n",
       "    </tr>\n",
       "    <tr>\n",
       "      <th>2748</th>\n",
       "      <td>ML0101ENv3</td>\n",
       "      <td>learning</td>\n",
       "      <td>4</td>\n",
       "    </tr>\n",
       "    <tr>\n",
       "      <th>2749</th>\n",
       "      <td>ML0101ENv3</td>\n",
       "      <td>machine</td>\n",
       "      <td>3</td>\n",
       "    </tr>\n",
       "    <tr>\n",
       "      <th>2750</th>\n",
       "      <td>ML0101ENv3</td>\n",
       "      <td>need</td>\n",
       "      <td>1</td>\n",
       "    </tr>\n",
       "    <tr>\n",
       "      <th>2751</th>\n",
       "      <td>ML0101ENv3</td>\n",
       "      <td>get</td>\n",
       "      <td>1</td>\n",
       "    </tr>\n",
       "    <tr>\n",
       "      <th>2752</th>\n",
       "      <td>ML0101ENv3</td>\n",
       "      <td>started</td>\n",
       "      <td>1</td>\n",
       "    </tr>\n",
       "    <tr>\n",
       "      <th>2753</th>\n",
       "      <td>ML0101ENv3</td>\n",
       "      <td>python</td>\n",
       "      <td>2</td>\n",
       "    </tr>\n",
       "    <tr>\n",
       "      <th>2754</th>\n",
       "      <td>ML0101ENv3</td>\n",
       "      <td>tool</td>\n",
       "      <td>1</td>\n",
       "    </tr>\n",
       "    <tr>\n",
       "      <th>2755</th>\n",
       "      <td>ML0101ENv3</td>\n",
       "      <td>tools</td>\n",
       "      <td>1</td>\n",
       "    </tr>\n",
       "    <tr>\n",
       "      <th>2756</th>\n",
       "      <td>ML0101ENv3</td>\n",
       "      <td>predict</td>\n",
       "      <td>1</td>\n",
       "    </tr>\n",
       "    <tr>\n",
       "      <th>2757</th>\n",
       "      <td>ML0101ENv3</td>\n",
       "      <td>free</td>\n",
       "      <td>1</td>\n",
       "    </tr>\n",
       "    <tr>\n",
       "      <th>2758</th>\n",
       "      <td>ML0101ENv3</td>\n",
       "      <td>hidden</td>\n",
       "      <td>1</td>\n",
       "    </tr>\n",
       "    <tr>\n",
       "      <th>2759</th>\n",
       "      <td>ML0101ENv3</td>\n",
       "      <td>insights</td>\n",
       "      <td>1</td>\n",
       "    </tr>\n",
       "    <tr>\n",
       "      <th>2760</th>\n",
       "      <td>ML0101ENv3</td>\n",
       "      <td>beneficial</td>\n",
       "      <td>1</td>\n",
       "    </tr>\n",
       "    <tr>\n",
       "      <th>2761</th>\n",
       "      <td>ML0101ENv3</td>\n",
       "      <td>future</td>\n",
       "      <td>1</td>\n",
       "    </tr>\n",
       "    <tr>\n",
       "      <th>2762</th>\n",
       "      <td>ML0101ENv3</td>\n",
       "      <td>trends</td>\n",
       "      <td>1</td>\n",
       "    </tr>\n",
       "    <tr>\n",
       "      <th>2763</th>\n",
       "      <td>ML0101ENv3</td>\n",
       "      <td>give</td>\n",
       "      <td>1</td>\n",
       "    </tr>\n",
       "    <tr>\n",
       "      <th>2764</th>\n",
       "      <td>ML0101ENv3</td>\n",
       "      <td>supervised</td>\n",
       "      <td>1</td>\n",
       "    </tr>\n",
       "    <tr>\n",
       "      <th>2765</th>\n",
       "      <td>ML0101ENv3</td>\n",
       "      <td>unsupervised</td>\n",
       "      <td>1</td>\n",
       "    </tr>\n",
       "  </tbody>\n",
       "</table>\n",
       "</div>"
      ],
      "text/plain": [
       "          doc_id         token  bow\n",
       "2747  ML0101ENv3        course    1\n",
       "2748  ML0101ENv3      learning    4\n",
       "2749  ML0101ENv3       machine    3\n",
       "2750  ML0101ENv3          need    1\n",
       "2751  ML0101ENv3           get    1\n",
       "2752  ML0101ENv3       started    1\n",
       "2753  ML0101ENv3        python    2\n",
       "2754  ML0101ENv3          tool    1\n",
       "2755  ML0101ENv3         tools    1\n",
       "2756  ML0101ENv3       predict    1\n",
       "2757  ML0101ENv3          free    1\n",
       "2758  ML0101ENv3        hidden    1\n",
       "2759  ML0101ENv3      insights    1\n",
       "2760  ML0101ENv3    beneficial    1\n",
       "2761  ML0101ENv3        future    1\n",
       "2762  ML0101ENv3        trends    1\n",
       "2763  ML0101ENv3          give    1\n",
       "2764  ML0101ENv3    supervised    1\n",
       "2765  ML0101ENv3  unsupervised    1"
      ]
     },
     "execution_count": 21,
     "metadata": {},
     "output_type": "execute_result"
    }
   ],
   "source": [
    "ml_course = bows_df[bows_df['doc_id'] == 'ML0101ENv3']\n",
    "ml_course"
   ]
  },
  {
   "cell_type": "markdown",
   "metadata": {},
   "source": [
    "We can see the BoW feature vector is in vertical format but normally feature vectors are in horizontal format. One way to transpose the feature vector from vertical to horizontal is to use the Pandas `pivot()` method:\n"
   ]
  },
  {
   "cell_type": "code",
   "execution_count": 22,
   "metadata": {},
   "outputs": [
    {
     "data": {
      "text/html": [
       "<div>\n",
       "<style scoped>\n",
       "    .dataframe tbody tr th:only-of-type {\n",
       "        vertical-align: middle;\n",
       "    }\n",
       "\n",
       "    .dataframe tbody tr th {\n",
       "        vertical-align: top;\n",
       "    }\n",
       "\n",
       "    .dataframe thead tr th {\n",
       "        text-align: left;\n",
       "    }\n",
       "</style>\n",
       "<table border=\"1\" class=\"dataframe\">\n",
       "  <thead>\n",
       "    <tr>\n",
       "      <th></th>\n",
       "      <th>doc_id</th>\n",
       "      <th colspan=\"19\" halign=\"left\">bow</th>\n",
       "    </tr>\n",
       "    <tr>\n",
       "      <th>token</th>\n",
       "      <th></th>\n",
       "      <th>beneficial</th>\n",
       "      <th>course</th>\n",
       "      <th>free</th>\n",
       "      <th>future</th>\n",
       "      <th>get</th>\n",
       "      <th>give</th>\n",
       "      <th>hidden</th>\n",
       "      <th>insights</th>\n",
       "      <th>learning</th>\n",
       "      <th>machine</th>\n",
       "      <th>need</th>\n",
       "      <th>predict</th>\n",
       "      <th>python</th>\n",
       "      <th>started</th>\n",
       "      <th>supervised</th>\n",
       "      <th>tool</th>\n",
       "      <th>tools</th>\n",
       "      <th>trends</th>\n",
       "      <th>unsupervised</th>\n",
       "    </tr>\n",
       "  </thead>\n",
       "  <tbody>\n",
       "    <tr>\n",
       "      <th>0</th>\n",
       "      <td>ML0101ENv3</td>\n",
       "      <td>1</td>\n",
       "      <td>1</td>\n",
       "      <td>1</td>\n",
       "      <td>1</td>\n",
       "      <td>1</td>\n",
       "      <td>1</td>\n",
       "      <td>1</td>\n",
       "      <td>1</td>\n",
       "      <td>4</td>\n",
       "      <td>3</td>\n",
       "      <td>1</td>\n",
       "      <td>1</td>\n",
       "      <td>2</td>\n",
       "      <td>1</td>\n",
       "      <td>1</td>\n",
       "      <td>1</td>\n",
       "      <td>1</td>\n",
       "      <td>1</td>\n",
       "      <td>1</td>\n",
       "    </tr>\n",
       "  </tbody>\n",
       "</table>\n",
       "</div>"
      ],
      "text/plain": [
       "           doc_id        bow                                              \\\n",
       "token             beneficial course free future get give hidden insights   \n",
       "0      ML0101ENv3          1      1    1      1   1    1      1        1   \n",
       "\n",
       "                                                                          \\\n",
       "token learning machine need predict python started supervised tool tools   \n",
       "0            4       3    1       1      2       1          1    1     1   \n",
       "\n",
       "                           \n",
       "token trends unsupervised  \n",
       "0          1            1  "
      ]
     },
     "execution_count": 22,
     "metadata": {},
     "output_type": "execute_result"
    }
   ],
   "source": [
    "ml_courseT = ml_course.pivot(index=['doc_id'], columns='token').reset_index(level=[0])\n",
    "ml_courseT"
   ]
  },
  {
   "cell_type": "markdown",
   "metadata": {},
   "source": [
    "To compare the BoWs of any two courses, which normally have a different set of tokens, we need to create a union token set and then transpose them. We have provided a method called `pivot_two_bows` as follows:\n"
   ]
  },
  {
   "cell_type": "code",
   "execution_count": 23,
   "metadata": {},
   "outputs": [],
   "source": [
    "def pivot_two_bows(basedoc, comparedoc):\n",
    "    base = basedoc.copy()\n",
    "    base['type'] = 'base'\n",
    "    compare = comparedoc.copy()\n",
    "    compare['type'] = 'compare'\n",
    "    # Append the two token sets vertically\n",
    "    join = base.append(compare)\n",
    "    # Pivot the two joined courses\n",
    "    joinT = join.pivot(index=['doc_id', 'type'], columns='token').fillna(0).reset_index(level=[0, 1])\n",
    "    # Assign columns\n",
    "    joinT.columns = ['doc_id', 'type'] + [t[1] for t in joinT.columns][2:]\n",
    "    return joinT"
   ]
  },
  {
   "cell_type": "code",
   "execution_count": 24,
   "metadata": {},
   "outputs": [],
   "source": [
    "course1 = bows_df[bows_df['doc_id'] == 'ML0151EN']\n",
    "course2 = bows_df[bows_df['doc_id'] == 'ML0101ENv3']"
   ]
  },
  {
   "cell_type": "code",
   "execution_count": 25,
   "metadata": {},
   "outputs": [
    {
     "data": {
      "text/html": [
       "<div>\n",
       "<style scoped>\n",
       "    .dataframe tbody tr th:only-of-type {\n",
       "        vertical-align: middle;\n",
       "    }\n",
       "\n",
       "    .dataframe tbody tr th {\n",
       "        vertical-align: top;\n",
       "    }\n",
       "\n",
       "    .dataframe thead th {\n",
       "        text-align: right;\n",
       "    }\n",
       "</style>\n",
       "<table border=\"1\" class=\"dataframe\">\n",
       "  <thead>\n",
       "    <tr style=\"text-align: right;\">\n",
       "      <th></th>\n",
       "      <th>doc_id</th>\n",
       "      <th>type</th>\n",
       "      <th>approachable</th>\n",
       "      <th>basics</th>\n",
       "      <th>beneficial</th>\n",
       "      <th>comparison</th>\n",
       "      <th>course</th>\n",
       "      <th>dives</th>\n",
       "      <th>free</th>\n",
       "      <th>future</th>\n",
       "      <th>...</th>\n",
       "      <th>relates</th>\n",
       "      <th>started</th>\n",
       "      <th>statistical</th>\n",
       "      <th>supervised</th>\n",
       "      <th>tool</th>\n",
       "      <th>tools</th>\n",
       "      <th>trends</th>\n",
       "      <th>unsupervised</th>\n",
       "      <th>using</th>\n",
       "      <th>vs</th>\n",
       "    </tr>\n",
       "  </thead>\n",
       "  <tbody>\n",
       "    <tr>\n",
       "      <th>0</th>\n",
       "      <td>ML0101ENv3</td>\n",
       "      <td>compare</td>\n",
       "      <td>0.0</td>\n",
       "      <td>0.0</td>\n",
       "      <td>1.0</td>\n",
       "      <td>0.0</td>\n",
       "      <td>1.0</td>\n",
       "      <td>0.0</td>\n",
       "      <td>1.0</td>\n",
       "      <td>1.0</td>\n",
       "      <td>...</td>\n",
       "      <td>0.0</td>\n",
       "      <td>1.0</td>\n",
       "      <td>0.0</td>\n",
       "      <td>1.0</td>\n",
       "      <td>1.0</td>\n",
       "      <td>1.0</td>\n",
       "      <td>1.0</td>\n",
       "      <td>1.0</td>\n",
       "      <td>0.0</td>\n",
       "      <td>0.0</td>\n",
       "    </tr>\n",
       "    <tr>\n",
       "      <th>1</th>\n",
       "      <td>ML0151EN</td>\n",
       "      <td>base</td>\n",
       "      <td>1.0</td>\n",
       "      <td>1.0</td>\n",
       "      <td>0.0</td>\n",
       "      <td>1.0</td>\n",
       "      <td>1.0</td>\n",
       "      <td>1.0</td>\n",
       "      <td>0.0</td>\n",
       "      <td>0.0</td>\n",
       "      <td>...</td>\n",
       "      <td>1.0</td>\n",
       "      <td>0.0</td>\n",
       "      <td>1.0</td>\n",
       "      <td>1.0</td>\n",
       "      <td>0.0</td>\n",
       "      <td>0.0</td>\n",
       "      <td>0.0</td>\n",
       "      <td>1.0</td>\n",
       "      <td>1.0</td>\n",
       "      <td>1.0</td>\n",
       "    </tr>\n",
       "  </tbody>\n",
       "</table>\n",
       "<p>2 rows × 36 columns</p>\n",
       "</div>"
      ],
      "text/plain": [
       "       doc_id     type  approachable  basics  beneficial  comparison  course  \\\n",
       "0  ML0101ENv3  compare           0.0     0.0         1.0         0.0     1.0   \n",
       "1    ML0151EN     base           1.0     1.0         0.0         1.0     1.0   \n",
       "\n",
       "   dives  free  future  ...  relates  started  statistical  supervised  tool  \\\n",
       "0    0.0   1.0     1.0  ...      0.0      1.0          0.0         1.0   1.0   \n",
       "1    1.0   0.0     0.0  ...      1.0      0.0          1.0         1.0   0.0   \n",
       "\n",
       "   tools  trends  unsupervised  using   vs  \n",
       "0    1.0     1.0           1.0    0.0  0.0  \n",
       "1    0.0     0.0           1.0    1.0  1.0  \n",
       "\n",
       "[2 rows x 36 columns]"
      ]
     },
     "execution_count": 25,
     "metadata": {},
     "output_type": "execute_result"
    }
   ],
   "source": [
    "import warnings\n",
    "warnings.filterwarnings('ignore')\n",
    "\n",
    "bow_vectors = pivot_two_bows(course1, course2)\n",
    "bow_vectors"
   ]
  },
  {
   "cell_type": "markdown",
   "metadata": {},
   "source": [
    "Similarly, we can use the cosine method to calculate their similarity:\n"
   ]
  },
  {
   "cell_type": "code",
   "execution_count": 26,
   "metadata": {},
   "outputs": [
    {
     "data": {
      "text/plain": [
       "0.6626221399549089"
      ]
     },
     "execution_count": 26,
     "metadata": {},
     "output_type": "execute_result"
    }
   ],
   "source": [
    "similarity = 1 - cosine(bow_vectors.iloc[0, 2:], bow_vectors.iloc[1, 2:])\n",
    "similarity"
   ]
  },
  {
   "cell_type": "markdown",
   "metadata": {},
   "source": [
    "Now it's your turn to perform a task of finding all courses similar to the course `Machine Learning with Python`:\n"
   ]
  },
  {
   "cell_type": "code",
   "execution_count": 27,
   "metadata": {},
   "outputs": [
    {
     "data": {
      "text/html": [
       "<div>\n",
       "<style scoped>\n",
       "    .dataframe tbody tr th:only-of-type {\n",
       "        vertical-align: middle;\n",
       "    }\n",
       "\n",
       "    .dataframe tbody tr th {\n",
       "        vertical-align: top;\n",
       "    }\n",
       "\n",
       "    .dataframe thead th {\n",
       "        text-align: right;\n",
       "    }\n",
       "</style>\n",
       "<table border=\"1\" class=\"dataframe\">\n",
       "  <thead>\n",
       "    <tr style=\"text-align: right;\">\n",
       "      <th></th>\n",
       "      <th>COURSE_ID</th>\n",
       "      <th>TITLE</th>\n",
       "      <th>DESCRIPTION</th>\n",
       "    </tr>\n",
       "  </thead>\n",
       "  <tbody>\n",
       "    <tr>\n",
       "      <th>158</th>\n",
       "      <td>ML0101ENv3</td>\n",
       "      <td>machine learning with python</td>\n",
       "      <td>machine learning can be an incredibly benefici...</td>\n",
       "    </tr>\n",
       "  </tbody>\n",
       "</table>\n",
       "</div>"
      ],
      "text/plain": [
       "      COURSE_ID                         TITLE  \\\n",
       "158  ML0101ENv3  machine learning with python   \n",
       "\n",
       "                                           DESCRIPTION  \n",
       "158  machine learning can be an incredibly benefici...  "
      ]
     },
     "execution_count": 27,
     "metadata": {},
     "output_type": "execute_result"
    }
   ],
   "source": [
    "course_df[course_df['COURSE_ID'] == 'ML0101ENv3']"
   ]
  },
  {
   "cell_type": "markdown",
   "metadata": {},
   "source": [
    "You can set a similarity threshold such as 0.5 to determine if two courses are similar enough.\n"
   ]
  },
  {
   "cell_type": "markdown",
   "metadata": {},
   "source": [
    "_TODO: Find courses which are similar to course `Machine Learning with Python (ML0101ENv3)`, you also need to show the title and descriptions of those courses._\n"
   ]
  },
  {
   "cell_type": "code",
   "execution_count": 28,
   "metadata": {
    "tags": []
   },
   "outputs": [],
   "source": [
    "# first a for loop to merge the two rows\n",
    "# then comes the condition if similarity > 0.5..\n",
    "\n",
    "unqiue_ids = sorted(list(set(x for x in course_df['COURSE_ID'] if x != 'ML0101ENv3')))\n",
    "similar_to = []\n",
    "for x in unqiue_ids:\n",
    "    course1 = bows_df[bows_df['doc_id'] == 'ML0151EN']\n",
    "    course2 = bows_df[bows_df['doc_id'] == x]\n",
    "    bow_vectors = pivot_two_bows(course1, course2)\n",
    "    \n",
    "    similarity = 1 - cosine(bow_vectors.iloc[0, 2:], bow_vectors.iloc[1, 2:])\n",
    "    \n",
    "    if similarity > 0.5:\n",
    "        similar_to.append(x)"
   ]
  },
  {
   "cell_type": "code",
   "execution_count": 29,
   "metadata": {},
   "outputs": [
    {
     "name": "stdout",
     "output_type": "stream",
     "text": [
      "The following courses are similar to \"Machine Learning with Python (ML0101ENv3)\"\n",
      "\n",
      "ML0109EN | ML0151EN | excourse46 | excourse47 | excourse51 | excourse60 | excourse69\n",
      "\n",
      "------------------------ Details ------------------------\n",
      "Course_ID:\t ML0109EN        Title:\t machine learning   dimensionality reduction\n",
      "Course_ID:\t ML0151EN        Title:\t machine learning with r\n",
      "Course_ID:\t excourse46      Title:\t machine learning\n",
      "Course_ID:\t excourse47      Title:\t machine learning for all\n",
      "Course_ID:\t excourse51      Title:\t introduction to machine learning in production\n",
      "Course_ID:\t excourse60      Title:\t introduction to tensorflow for artificial intelligence  machine learning  and deep learning\n",
      "Course_ID:\t excourse69      Title:\t machine learning with big data\n"
     ]
    }
   ],
   "source": [
    "sim_courses = []\n",
    "for x in similar_to:\n",
    "    ind = np.where(course_df[\"COURSE_ID\"] == x)\n",
    "    a = ind[0][0]\n",
    "    sim_courses.append(a)\n",
    "\n",
    "print('The following courses are similar to \"Machine Learning with Python (ML0101ENv3)\"\\n')\n",
    "print(*similar_to, sep=' | ') \n",
    "print()\n",
    "print(\"------------------------ Details ------------------------\")\n",
    "for i, elem in enumerate(similar_to):\n",
    "    print(f'Course_ID:\\t {elem:<15} Title:\\t {course_df.iloc[sim_courses[i], 1]}')\n"
   ]
  }
 ],
 "metadata": {
  "kernelspec": {
   "display_name": "Python 3 (ipykernel)",
   "language": "python",
   "name": "python3"
  },
  "language_info": {
   "codemirror_mode": {
    "name": "ipython",
    "version": 3
   },
   "file_extension": ".py",
   "mimetype": "text/x-python",
   "name": "python",
   "nbconvert_exporter": "python",
   "pygments_lexer": "ipython3",
   "version": "3.9.12"
  }
 },
 "nbformat": 4,
 "nbformat_minor": 4
}
