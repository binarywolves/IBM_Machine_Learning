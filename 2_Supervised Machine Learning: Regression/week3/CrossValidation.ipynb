{
 "cells": [
  {
   "cell_type": "markdown",
   "id": "4bac092e-8369-4909-ac36-9d4716603d5b",
   "metadata": {},
   "source": [
    "<h1 style=\"color:salmon; text-align:center; font-size:2.5em;\">Cross Validation</h1>\n",
    "\n",
    "<div style=\"color:#A9CCE3; font-size:1.5em\">\n",
    "    \n",
    "<li>Chain multiple data processing steps together using <code style=\"background-color:#FDEBD0; color:#CD6155;\">Pipeline</code></li>\n",
    "<li>Use the <code style=\"background-color:#FDEBD0; color:#CD6155;\">KFolds</code> object to split data into multiple folds.</li>\n",
    "<li>Perform cross validation using SciKit Learn with <code style=\"background-color:#FDEBD0; color:#CD6155;\">cross_val_predict</code> and <code style=\"background-color:#FDEBD0; color:#CD6155;\">GridSearchCV</code></li>\n",
    "    \n",
    "</div>"
   ]
  },
  {
   "cell_type": "code",
   "execution_count": 1,
   "id": "2f44607d-3cd3-4b4c-934b-ebcefb512341",
   "metadata": {},
   "outputs": [],
   "source": [
    "# Surpress warnings:\n",
    "def warn(*args, **kwargs):\n",
    "    pass\n",
    "import warnings\n",
    "warnings.warn = warn\n",
    "\n",
    "import numpy as np\n",
    "import pickle\n",
    "import pandas as pd\n",
    "import matplotlib.pyplot as plt\n",
    "\n",
    "from sklearn.preprocessing import StandardScaler, PolynomialFeatures\n",
    "from sklearn.model_selection import KFold, cross_val_predict\n",
    "from sklearn.linear_model import LinearRegression, Lasso, Ridge\n",
    "from sklearn.metrics import r2_score\n",
    "from sklearn.pipeline import Pipeline"
   ]
  },
  {
   "cell_type": "code",
   "execution_count": 2,
   "id": "dc4376b0-b488-4f5c-9669-bdb1cdcd9af3",
   "metadata": {},
   "outputs": [],
   "source": [
    "import requests\n",
    "\n",
    "# Note we are loading a slightly different (\"cleaned\") pickle file\n",
    "URL = 'https://cf-courses-data.s3.us.cloud-object-storage.appdomain.cloud/IBM-ML240EN-SkillsNetwork/labs/data/boston_housing_clean.pickle'\n",
    "\n",
    "response = requests.get(URL)\n",
    "boston = pickle.loads(response.content)"
   ]
  },
  {
   "cell_type": "code",
   "execution_count": 3,
   "id": "83c67825-4448-4b84-8f37-83e201ff1405",
   "metadata": {},
   "outputs": [
    {
     "data": {
      "text/plain": [
       "dict_keys(['dataframe', 'description'])"
      ]
     },
     "execution_count": 3,
     "metadata": {},
     "output_type": "execute_result"
    }
   ],
   "source": [
    "boston.keys()"
   ]
  },
  {
   "cell_type": "code",
   "execution_count": 4,
   "id": "3e29f593-9043-4e28-a9bb-0520edade558",
   "metadata": {},
   "outputs": [
    {
     "data": {
      "text/html": [
       "<div>\n",
       "<style scoped>\n",
       "    .dataframe tbody tr th:only-of-type {\n",
       "        vertical-align: middle;\n",
       "    }\n",
       "\n",
       "    .dataframe tbody tr th {\n",
       "        vertical-align: top;\n",
       "    }\n",
       "\n",
       "    .dataframe thead th {\n",
       "        text-align: right;\n",
       "    }\n",
       "</style>\n",
       "<table border=\"1\" class=\"dataframe\">\n",
       "  <thead>\n",
       "    <tr style=\"text-align: right;\">\n",
       "      <th></th>\n",
       "      <th>CRIM</th>\n",
       "      <th>ZN</th>\n",
       "      <th>INDUS</th>\n",
       "      <th>CHAS</th>\n",
       "      <th>NOX</th>\n",
       "      <th>RM</th>\n",
       "      <th>AGE</th>\n",
       "      <th>DIS</th>\n",
       "      <th>RAD</th>\n",
       "      <th>TAX</th>\n",
       "      <th>PTRATIO</th>\n",
       "      <th>B</th>\n",
       "      <th>LSTAT</th>\n",
       "      <th>MEDV</th>\n",
       "    </tr>\n",
       "  </thead>\n",
       "  <tbody>\n",
       "    <tr>\n",
       "      <th>0</th>\n",
       "      <td>0.00632</td>\n",
       "      <td>18.0</td>\n",
       "      <td>2.31</td>\n",
       "      <td>0.0</td>\n",
       "      <td>0.538</td>\n",
       "      <td>6.575</td>\n",
       "      <td>65.2</td>\n",
       "      <td>4.0900</td>\n",
       "      <td>1.0</td>\n",
       "      <td>296.0</td>\n",
       "      <td>15.3</td>\n",
       "      <td>396.90</td>\n",
       "      <td>4.98</td>\n",
       "      <td>24.0</td>\n",
       "    </tr>\n",
       "    <tr>\n",
       "      <th>1</th>\n",
       "      <td>0.02731</td>\n",
       "      <td>0.0</td>\n",
       "      <td>7.07</td>\n",
       "      <td>0.0</td>\n",
       "      <td>0.469</td>\n",
       "      <td>6.421</td>\n",
       "      <td>78.9</td>\n",
       "      <td>4.9671</td>\n",
       "      <td>2.0</td>\n",
       "      <td>242.0</td>\n",
       "      <td>17.8</td>\n",
       "      <td>396.90</td>\n",
       "      <td>9.14</td>\n",
       "      <td>21.6</td>\n",
       "    </tr>\n",
       "    <tr>\n",
       "      <th>2</th>\n",
       "      <td>0.02729</td>\n",
       "      <td>0.0</td>\n",
       "      <td>7.07</td>\n",
       "      <td>0.0</td>\n",
       "      <td>0.469</td>\n",
       "      <td>7.185</td>\n",
       "      <td>61.1</td>\n",
       "      <td>4.9671</td>\n",
       "      <td>2.0</td>\n",
       "      <td>242.0</td>\n",
       "      <td>17.8</td>\n",
       "      <td>392.83</td>\n",
       "      <td>4.03</td>\n",
       "      <td>34.7</td>\n",
       "    </tr>\n",
       "    <tr>\n",
       "      <th>3</th>\n",
       "      <td>0.03237</td>\n",
       "      <td>0.0</td>\n",
       "      <td>2.18</td>\n",
       "      <td>0.0</td>\n",
       "      <td>0.458</td>\n",
       "      <td>6.998</td>\n",
       "      <td>45.8</td>\n",
       "      <td>6.0622</td>\n",
       "      <td>3.0</td>\n",
       "      <td>222.0</td>\n",
       "      <td>18.7</td>\n",
       "      <td>394.63</td>\n",
       "      <td>2.94</td>\n",
       "      <td>33.4</td>\n",
       "    </tr>\n",
       "    <tr>\n",
       "      <th>4</th>\n",
       "      <td>0.06905</td>\n",
       "      <td>0.0</td>\n",
       "      <td>2.18</td>\n",
       "      <td>0.0</td>\n",
       "      <td>0.458</td>\n",
       "      <td>7.147</td>\n",
       "      <td>54.2</td>\n",
       "      <td>6.0622</td>\n",
       "      <td>3.0</td>\n",
       "      <td>222.0</td>\n",
       "      <td>18.7</td>\n",
       "      <td>396.90</td>\n",
       "      <td>5.33</td>\n",
       "      <td>36.2</td>\n",
       "    </tr>\n",
       "  </tbody>\n",
       "</table>\n",
       "</div>"
      ],
      "text/plain": [
       "      CRIM    ZN  INDUS  CHAS    NOX     RM   AGE     DIS  RAD    TAX  \\\n",
       "0  0.00632  18.0   2.31   0.0  0.538  6.575  65.2  4.0900  1.0  296.0   \n",
       "1  0.02731   0.0   7.07   0.0  0.469  6.421  78.9  4.9671  2.0  242.0   \n",
       "2  0.02729   0.0   7.07   0.0  0.469  7.185  61.1  4.9671  2.0  242.0   \n",
       "3  0.03237   0.0   2.18   0.0  0.458  6.998  45.8  6.0622  3.0  222.0   \n",
       "4  0.06905   0.0   2.18   0.0  0.458  7.147  54.2  6.0622  3.0  222.0   \n",
       "\n",
       "   PTRATIO       B  LSTAT  MEDV  \n",
       "0     15.3  396.90   4.98  24.0  \n",
       "1     17.8  396.90   9.14  21.6  \n",
       "2     17.8  392.83   4.03  34.7  \n",
       "3     18.7  394.63   2.94  33.4  \n",
       "4     18.7  396.90   5.33  36.2  "
      ]
     },
     "execution_count": 4,
     "metadata": {},
     "output_type": "execute_result"
    }
   ],
   "source": [
    "boston_data = boston['dataframe']\n",
    "boston_description = boston['description']\n",
    "\n",
    "boston_data.head()"
   ]
  },
  {
   "cell_type": "markdown",
   "id": "6f452d7d-4a1a-4866-a394-d5c62569342f",
   "metadata": {},
   "source": [
    "<h2 style=\"color:salmon;\"> Discussion:</h2>\n",
    "    \n",
    "<div style=\"color:#A9CCE3; font-size:1.5em\">\n",
    "    \n",
    "Suppose we want to do Linear Regression on our dataset to get an estimate, based on mean squared error, of how well our model will perform on data outside our dataset.<br>\n",
    "Suppose also that our data is split into three folds: Fold 1, Fold 2, and Fold 3.<br>\n",
    "What would the steps be, in English, to do this?\n",
    "<div>"
   ]
  },
  {
   "cell_type": "markdown",
   "id": "474f537f-61e8-4ea4-81d6-e7b8093a607a",
   "metadata": {},
   "source": [
    "<h2 style=\"color:green;\"> Answer:</h2>\n",
    "    \n",
    "<div style=\"color:#45B39D; font-size:1.5em\">\n",
    "\n",
    "<ol>\n",
    "<li>Split the data into three folds: Fold 1, Fold 2, and Fold 3.</li>\n",
    "<li>For each fold:<ul>\n",
    "<li>Train the model on the other two folds.</li>\n",
    "<li>Evaluate the model on the current fold and record the mean squared error.</li>\n",
    "</ul></li>\n",
    "\n",
    "<li>Calculate the average mean squared error across all three folds to get an estimate of how well the model will perform on data outside the dataset.</li>\n",
    "<li>Repeat the process with different train-test splits to get a more reliable estimate.</li>\n",
    "    \n",
    "</ol>\n",
    "\n",
    "It's worth noting that scikit-learn has a <code style=\"background-color:#FDEBD0; color:#CD6155;\">cross_val_score</code> function that automates this process, making it much simpler to perform cross-validation. Or <code style=\"background-color:#FDEBD0; color:#CD6155;\">KFold</code> can be used to achieve the goal.\n",
    "<div>"
   ]
  },
  {
   "cell_type": "markdown",
   "id": "b6066202-9565-4c2d-9771-569b1fc4a73c",
   "metadata": {},
   "source": [
    "<h2 style=\"color:salmon;\">Coding this up:</h2>\n",
    "    \n",
    "<div style=\"color:#A9CCE3; font-size:1.5em\">\n",
    "    \n",
    "The [`KFold`](http://scikit-learn.org/stable/modules/generated/sklearn.model_selection.KFold.html?utm_medium=Exinfluencer&utm_source=Exinfluencer&utm_content=000026UJ&utm_term=10006555&utm_id=NA-SkillsNetwork-Channel-SkillsNetworkCoursesIBMML240ENSkillsNetwork34171862-2022-01-01) object in SciKit Learn tells the cross validation object (see below) how to split up the data:\n",
    "<div>"
   ]
  },
  {
   "cell_type": "code",
   "execution_count": 5,
   "id": "52377d9c-3ab7-4880-8db5-5ea0751824d4",
   "metadata": {},
   "outputs": [
    {
     "name": "stdout",
     "output_type": "stream",
     "text": [
      "Train index: [ 1  3  4  5  7  8 10 11 12 13] 337\n",
      "Test index: [ 0  2  6  9 15 17 19 23 25 26] 169\n",
      "\n",
      "Train index: [ 0  2  6  9 10 11 12 13 15 17] 337\n",
      "Test index: [ 1  3  4  5  7  8 14 16 22 27] 169\n",
      "\n",
      "Train index: [0 1 2 3 4 5 6 7 8 9] 338\n",
      "Test index: [10 11 12 13 18 20 21 24 28 31] 168\n",
      "\n"
     ]
    }
   ],
   "source": [
    "X = boston_data.drop('MEDV', axis=1)\n",
    "y = boston_data.MEDV\n",
    "\n",
    "kf = KFold(shuffle=True, random_state=72018, n_splits=3)\n",
    "\n",
    "for train_index, test_index in kf.split(X):\n",
    "    print(\"Train index:\", train_index[:10], len(train_index))\n",
    "    print(\"Test index:\", test_index[:10], len(test_index))\n",
    "    print('')"
   ]
  },
  {
   "cell_type": "code",
   "execution_count": 6,
   "id": "1c7e8b17-a541-4e9a-9c00-372f387bbff6",
   "metadata": {},
   "outputs": [
    {
     "data": {
      "text/plain": [
       "[0.6719348798472737, 0.7485020059212378, 0.6976807323597766]"
      ]
     },
     "execution_count": 6,
     "metadata": {},
     "output_type": "execute_result"
    }
   ],
   "source": [
    "#from sklearn.metrics import r2_score, mean_squared_error\n",
    "\n",
    "scores = []\n",
    "lr = LinearRegression()\n",
    "\n",
    "for train_index, test_index in kf.split(X):\n",
    "    X_train, X_test, y_train, y_test = (X.iloc[train_index, :], \n",
    "                                        X.iloc[test_index, :], \n",
    "                                        y[train_index], \n",
    "                                        y[test_index])\n",
    "    \n",
    "    lr.fit(X_train, y_train)\n",
    "        \n",
    "    y_pred = lr.predict(X_test)\n",
    "\n",
    "    score = r2_score(y_test.values, y_pred)\n",
    "    \n",
    "    scores.append(score)\n",
    "    \n",
    "scores"
   ]
  },
  {
   "cell_type": "markdown",
   "id": "6dd58104-4cbb-4a2a-86ae-82fee99abb02",
   "metadata": {},
   "source": [
    "#### → A bit cumbersome, but do-able."
   ]
  },
  {
   "cell_type": "markdown",
   "id": "63b9b12d-e2e9-4eb6-9456-dfd17fd2e971",
   "metadata": {},
   "source": [
    "<h2 style=\"color:salmon;\"> Discussion:</h2>\n",
    "    \n",
    "<div style=\"color:#A9CCE3; font-size:1.5em\">\n",
    "    \n",
    "Now suppose we want to do the same, but appropriately scaling our data as we go through the folds.\n",
    "<br>\n",
    "What would the steps be <em>now</em>?\n",
    "<div>"
   ]
  },
  {
   "cell_type": "markdown",
   "id": "ac1a56c5-b7c6-4f1e-95ed-e9abc94a8759",
   "metadata": {},
   "source": [
    "<h2 style=\"color:salmon;\">Coding this up:</h2>\n",
    "    "
   ]
  },
  {
   "cell_type": "code",
   "execution_count": 7,
   "id": "7687762b-381b-4115-83d9-5554912b64b2",
   "metadata": {},
   "outputs": [
    {
     "data": {
      "text/plain": [
       "[0.6719348798472715, 0.748502005921238, 0.6976807323597745]"
      ]
     },
     "execution_count": 7,
     "metadata": {},
     "output_type": "execute_result"
    }
   ],
   "source": [
    "scores = []\n",
    "\n",
    "lr = LinearRegression()\n",
    "s = StandardScaler()\n",
    "\n",
    "for train_index, test_index in kf.split(X):\n",
    "    X_train, X_test, y_train, y_test = (X.iloc[train_index, :], \n",
    "                                        X.iloc[test_index, :], \n",
    "                                        y[train_index], \n",
    "                                        y[test_index])\n",
    "    \n",
    "    X_train_s = s.fit_transform(X_train)\n",
    "    \n",
    "    lr.fit(X_train_s, y_train)\n",
    "    \n",
    "    X_test_s = s.transform(X_test)\n",
    "    \n",
    "    y_pred = lr.predict(X_test_s)\n",
    "\n",
    "    score = r2_score(y_test.values, y_pred)\n",
    "    \n",
    "    scores.append(score)\n",
    "    \n",
    "scores"
   ]
  },
  {
   "cell_type": "markdown",
   "id": "7bdd0b02-9207-4a75-89d5-8172d6ff1ad0",
   "metadata": {},
   "source": [
    "#### → (same scores, because for vanilla linear regression with no regularization, scaling actually doesn't matter for performance)\n",
    "#### This is getting quite cumbersome!\n",
    "\n",
    "#### Very luckily, SciKit Learn has some wonderful functions that handle a lot of this for us."
   ]
  },
  {
   "cell_type": "markdown",
   "id": "7db1c949-03ea-41b5-9523-32160607236c",
   "metadata": {},
   "source": [
    "<h2 style=\"color:salmon;\"><code style=\"background-color:#FDEBD0; color:#CD6155;\">Pipeline</code> and <code style=\"background-color:#FDEBD0; color:#CD6155;\">cross_val_predict</code></h2>\n",
    "    \n",
    "<div style=\"color:#A9CCE3; font-size:1.5em\">\n",
    "\n",
    "<code style=\"background-color:#FDEBD0; color:#CD6155;\">Pipeline</code> lets you chain together multiple operators on your data that both have a <code style=\"background-color:#FDEBD0; color:#CD6155;\">fit</code> method.\n",
    "    \n",
    "<div>"
   ]
  },
  {
   "cell_type": "code",
   "execution_count": 8,
   "id": "436f9987-2527-4321-9a58-5e65dda74359",
   "metadata": {},
   "outputs": [],
   "source": [
    "s = StandardScaler()\n",
    "lr = LinearRegression()"
   ]
  },
  {
   "cell_type": "markdown",
   "id": "fe93e76a-0e63-41fa-9971-9bb9d96bbfcc",
   "metadata": {},
   "source": [
    "<h2 style=\"color:salmon;\">Combine multiple processing steps into a <code style=\"background-color:#FDEBD0; color:#CD6155;\">Pipeline</code> </h2>\n",
    "    \n",
    "<div style=\"color:#A9CCE3; font-size:1.5em\">\n",
    "\n",
    "A pipeline contains a series of steps, where a step is (\"name of step\", actual_model). The \"name of step\" string is only used to help you identify which step you are on, and to allow you to specify parameters at that step.\n",
    "    \n",
    "</div>"
   ]
  },
  {
   "cell_type": "code",
   "execution_count": 9,
   "id": "6e58e19a-a0bc-4551-a76a-670afc6dc8f4",
   "metadata": {},
   "outputs": [],
   "source": [
    "estimator = Pipeline([(\"scaler\", s),\n",
    "                      (\"regression\", lr)])"
   ]
  },
  {
   "cell_type": "markdown",
   "id": "2f5c9c23-7f01-4015-bd54-b8e1fe9950a8",
   "metadata": {},
   "source": [
    "<hr>\n",
    "<h2 style=\"color:salmon;\"><code style=\"background-color:#FDEBD0; color:#CD6155;\">cross_val_predict</code> </h2>\n",
    "    \n",
    "<div style=\"color:#A9CCE3; font-size:1.5em\">\n",
    "\n",
    "<code style=\"background-color:#FDEBD0; color:#CD6155;\">cross_val_predict</code> is a function that does K-fold cross validation for us, appropriately fitting and transforming at every step of the way.\n",
    "    \n",
    "<div>"
   ]
  },
  {
   "cell_type": "code",
   "execution_count": 10,
   "id": "582d5232-2979-42c3-9577-0c3a6a0bce92",
   "metadata": {},
   "outputs": [
    {
     "data": {
      "text/plain": [
       "KFold(n_splits=3, random_state=72018, shuffle=True)"
      ]
     },
     "execution_count": 10,
     "metadata": {},
     "output_type": "execute_result"
    }
   ],
   "source": [
    "kf"
   ]
  },
  {
   "cell_type": "code",
   "execution_count": 11,
   "id": "fcc8f5e9-8b3b-4a26-9699-5fb714a9a370",
   "metadata": {},
   "outputs": [
    {
     "data": {
      "text/plain": [
       "0.7063531064161561"
      ]
     },
     "execution_count": 11,
     "metadata": {},
     "output_type": "execute_result"
    }
   ],
   "source": [
    "predictions = cross_val_predict(estimator, X, y, cv=kf)\n",
    "\n",
    "r2_score(y, predictions)"
   ]
  },
  {
   "cell_type": "code",
   "execution_count": 12,
   "id": "27888f22-4208-404c-b23b-8527365ae4da",
   "metadata": {},
   "outputs": [
    {
     "data": {
      "text/plain": [
       "0.7060392060427613"
      ]
     },
     "execution_count": 12,
     "metadata": {},
     "output_type": "execute_result"
    }
   ],
   "source": [
    "np.mean(scores) # almost identical!"
   ]
  },
  {
   "cell_type": "markdown",
   "id": "aa50899e-677b-4b08-9229-022ae71af639",
   "metadata": {},
   "source": [
    ">#### Note that `cross_val_predict` doesn't use the same model for all steps; the predictions for each row are made when that row is in the validation set. We really have the collected results of 3 (i.e. `kf.num_splits`) different models.<br>When we are done, `estimator` is still not fitted. If we want to predict on *new* data, we still have to train our `estimator`."
   ]
  },
  {
   "cell_type": "markdown",
   "id": "85c1fd6a-c606-4a4b-b605-d4836826e876",
   "metadata": {},
   "source": [
    "<hr>\n",
    "<h2 style=\"color:salmon; font-size:1.85em;\">Hyperparameter tuning </h2>\n",
    "<h2 style=\"color:salmon;\">Definition</h2>\n",
    "\n",
    "    \n",
    "<div style=\"color:#A9CCE3; font-size:1.5em\">\n",
    "\n",
    "<strong>Hyperparameter tuning</strong> involves using cross validation (or train-test split) to determine which hyperparameters are most likely to generate a model that *generalizes* well outside of your sample.\n",
    "    \n",
    "    \n",
    "</div>\n",
    "\n",
    "<h2 style=\"color:salmon;\">Mechanics</h2>\n",
    "\n",
    "    \n",
    "<div style=\"color:#A9CCE3; font-size:1.5em\">\n",
    "\n",
    "We can generate an exponentially spaces range of values using the numpy [`geomspace`](https://docs.scipy.org/doc/numpy/reference/generated/numpy.geomspace.html?utm_medium=Exinfluencer&utm_source=Exinfluencer&utm_content=000026UJ&utm_term=10006555&utm_id=NA-SkillsNetwork-Channel-SkillsNetworkCoursesIBMML240ENSkillsNetwork34171862-2022-01-01#numpy.geomspace) function.\n",
    "    \n",
    "    \n",
    "```python\n",
    "np.geomspace(1, 1000, num=4)\n",
    "```\n",
    "<br>\n",
    "produces:\n",
    "    \n",
    "```\n",
    "array([    1.,    10.,   100.,  1000.])\n",
    "```\n",
    "\n",
    "Use this function to generate a list of length 10 called `alphas` for hyperparameter tuning:    \n",
    "\n",
    "    \n",
    "</div>"
   ]
  },
  {
   "cell_type": "code",
   "execution_count": 13,
   "id": "3243c3a8-5e02-499a-8718-dfc67662b482",
   "metadata": {},
   "outputs": [
    {
     "data": {
      "text/plain": [
       "array([1.e-09, 1.e-08, 1.e-07, 1.e-06, 1.e-05, 1.e-04, 1.e-03, 1.e-02,\n",
       "       1.e-01, 1.e+00])"
      ]
     },
     "execution_count": 13,
     "metadata": {},
     "output_type": "execute_result"
    }
   ],
   "source": [
    "alphas = np.geomspace(1e-9, 1e0, num=10)\n",
    "alphas"
   ]
  },
  {
   "cell_type": "markdown",
   "id": "ec34842c-509e-4a52-8ad0-40bc7cd841aa",
   "metadata": {},
   "source": [
    "<div style=\"color:#A9CCE3; font-size:1.5em\">\n",
    "\n",
    "<br>The code below tunes the `alpha` hyperparameter for Lasso regression.\n",
    "    \n",
    "    \n",
    "</div>"
   ]
  },
  {
   "cell_type": "code",
   "execution_count": 14,
   "id": "b0badab2-6a8b-482c-b965-96cc5dbe1ab6",
   "metadata": {},
   "outputs": [
    {
     "data": {
      "text/plain": [
       "[(1e-09, 0.7063531064981925),\n",
       " (1e-08, 0.7063531072356071),\n",
       " (1e-07, 0.7063531145602442),\n",
       " (1e-06, 0.7063531882052063),\n",
       " (1e-05, 0.7063539165191507),\n",
       " (0.0001, 0.706361268093463),\n",
       " (0.001, 0.706433467041546),\n",
       " (0.01, 0.7070865958083233),\n",
       " (0.1, 0.705838151167185),\n",
       " (1.0, 0.6512724532884888)]"
      ]
     },
     "execution_count": 14,
     "metadata": {},
     "output_type": "execute_result"
    }
   ],
   "source": [
    "scores = []\n",
    "coefs = []\n",
    "\n",
    "for alpha in alphas:\n",
    "    las = Lasso(alpha=alpha, max_iter=100000)\n",
    "    \n",
    "    estimator = Pipeline([\n",
    "        (\"scaler\", s),\n",
    "        (\"lasso_regression\", las)])\n",
    "\n",
    "    predictions = cross_val_predict(estimator, X, y, cv = kf)\n",
    "    \n",
    "    score = r2_score(y, predictions)\n",
    "    \n",
    "    scores.append(score)\n",
    "    \n",
    "    \n",
    "list(zip(alphas,scores))"
   ]
  },
  {
   "cell_type": "code",
   "execution_count": 15,
   "id": "53cfd195-b97b-443b-9260-e0cde54feb51",
   "metadata": {},
   "outputs": [
    {
     "data": {
      "text/plain": [
       "array([-1.07170372e-01,  4.63952623e-02,  2.08588308e-02,  2.68854318e+00,\n",
       "       -1.77954207e+01,  3.80475296e+00,  7.50802707e-04, -1.47575348e+00,\n",
       "        3.05654279e-01, -1.23293755e-02, -9.53459908e-01,  9.39253013e-03,\n",
       "       -5.25467196e-01])"
      ]
     },
     "execution_count": 15,
     "metadata": {},
     "output_type": "execute_result"
    }
   ],
   "source": [
    "Lasso(alpha=1e-6).fit(X, y).coef_"
   ]
  },
  {
   "cell_type": "code",
   "execution_count": 16,
   "id": "436015a6-9065-4b09-9b1b-5c7134884e0c",
   "metadata": {},
   "outputs": [
    {
     "data": {
      "text/plain": [
       "array([-0.06342255,  0.04916867, -0.        ,  0.        , -0.        ,\n",
       "        0.94678567,  0.02092737, -0.66900864,  0.26417501, -0.01520915,\n",
       "       -0.72319901,  0.00829117, -0.76143296])"
      ]
     },
     "execution_count": 16,
     "metadata": {},
     "output_type": "execute_result"
    }
   ],
   "source": [
    "Lasso(alpha=1.0).fit(X, y).coef_"
   ]
  },
  {
   "cell_type": "code",
   "execution_count": 17,
   "id": "613ca938-6ca2-4cb9-bbc0-1e8edc528162",
   "metadata": {},
   "outputs": [
    {
     "data": {
      "image/png": "[encoded data removed]",
      "text/plain": [
       "<Figure size 720x432 with 1 Axes>"
      ]
     },
     "metadata": {
      "needs_background": "light"
     },
     "output_type": "display_data"
    }
   ],
   "source": [
    "plt.figure(figsize=(10,6))\n",
    "plt.semilogx(alphas, scores, '-o')\n",
    "plt.xlabel('$\\\\alpha$')\n",
    "plt.ylabel('$R^2$');\n",
    "plt.show()"
   ]
  },
  {
   "cell_type": "markdown",
   "id": "9689e51a-bf43-46f5-9203-992654a9c706",
   "metadata": {},
   "source": [
    "<br><br><h2 style=\"color:salmon;\">Exercise</h2>\n",
    "\n",
    "\n",
    "    \n",
    "<div style=\"color:#A9CCE3; font-size:1.5em\">\n",
    "\n",
    "Add <code style=\"background-color:#FDEBD0; color:#CD6155;\">PolynomialFeatures</code> to this <code style=\"background-color:#FDEBD0; color:#CD6155;\">Pipeline</code>, and re-run the cross validation with the <code style=\"background-color:#FDEBD0; color:#CD6155;\">PolynomialFeatures</code> added.\n",
    "    \n",
    "<strong>Hint #1</strong>: pipelines process input from first to last. Think about the order that it would make sense to add Polynomial Features to the data in sequence and add them in the appropriate place in the pipeline.<br>\n",
    "<strong>Hint #2</strong>: you should see a significant increase in cross validation accuracy from doing this\n",
    "   \n",
    "given code snippet:\n",
    "    \n",
    "</div>\n",
    "\n",
    "```python\n",
    "pf = PolynomialFeatures(degree=3)\n",
    "\n",
    "scores = []\n",
    "alphas = np.geomspace(0.06, 6.0, 20)\n",
    "for alpha in alphas:\n",
    "    las = Lasso(alpha=alpha, max_iter=100000)\n",
    "    \n",
    "    estimator = Pipeline([\n",
    "        (\"scaler\", s),\n",
    "        (\"make_higher_degree\", pf),\n",
    "        (\"lasso_regression\", las)])\n",
    "\n",
    "    predictions = cross_val_predict(estimator, X, y, cv = kf)\n",
    "    \n",
    "    score = r2_score(y, predictions)\n",
    "    \n",
    "    scores.append(score)\n",
    "```\n",
    "    \n"
   ]
  },
  {
   "cell_type": "code",
   "execution_count": 18,
   "id": "4a0c8f27-5268-4f96-bca6-07e78615ea14",
   "metadata": {},
   "outputs": [
    {
     "data": {
      "image/png": "[encoded data removed]",
      "text/plain": [
       "<Figure size 720x432 with 1 Axes>"
      ]
     },
     "metadata": {
      "needs_background": "light"
     },
     "output_type": "display_data"
    }
   ],
   "source": [
    "pf = PolynomialFeatures(degree=3)\n",
    "\n",
    "scores_lasso = []\n",
    "alphas = np.geomspace(0.06, 6.0, 20)\n",
    "\n",
    "for alpha in alphas:\n",
    "    las = Lasso(alpha=alpha, max_iter=100000)\n",
    "    \n",
    "    estimator = Pipeline([\n",
    "        (\"make_higher_degree\", pf),\n",
    "        (\"scaler\", s),\n",
    "        (\"lasso_regression\", las)\n",
    "    ])\n",
    "\n",
    "    predictions = cross_val_predict(estimator, X, y, cv=kf)\n",
    "    \n",
    "    score = r2_score(y, predictions)\n",
    "    \n",
    "    scores_lasso.append(score)\n",
    "    \n",
    "plt.figure(figsize=(10,6))\n",
    "plt.semilogx(alphas, scores_lasso, '-o')\n",
    "plt.xlabel('$\\\\alpha$')\n",
    "plt.ylabel('$R^2$');"
   ]
  },
  {
   "cell_type": "code",
   "execution_count": 19,
   "id": "6e60f6cb-d4fe-4ece-8c34-779169b5af6a",
   "metadata": {},
   "outputs": [
    {
     "data": {
      "text/plain": [
       "0.9134777735196521"
      ]
     },
     "execution_count": 19,
     "metadata": {},
     "output_type": "execute_result"
    }
   ],
   "source": [
    "# Once we have found the hyperparameter (alpha~1e-2=0.01)\n",
    "# make the model and train it on ALL the data\n",
    "# Then release it into the wild .....\n",
    "best_estimator_lasso = Pipeline([\n",
    "                    (\"scaler\", s),\n",
    "                    (\"make_higher_degree\", PolynomialFeatures(degree=2)),\n",
    "                    (\"lasso_regression\", Lasso(alpha=0.03))])\n",
    "\n",
    "best_estimator_lasso.fit(X, y)\n",
    "best_estimator_lasso.score(X, y)"
   ]
  },
  {
   "cell_type": "code",
   "execution_count": 20,
   "id": "ec773f32-b01a-4cf3-b169-7e797c8d62a7",
   "metadata": {},
   "outputs": [
    {
     "data": {
      "text/plain": [
       "array([ 0.00000000e+00, -0.00000000e+00, -0.00000000e+00, -0.00000000e+00,\n",
       "        0.00000000e+00, -1.00309168e+00,  3.32679107e+00, -1.01840878e+00,\n",
       "       -2.56161421e+00,  1.12778302e+00, -1.72266155e+00, -5.37088506e-01,\n",
       "        4.39555878e-01, -3.39542586e+00,  7.22387712e-02,  0.00000000e+00,\n",
       "        0.00000000e+00,  3.53653554e+00, -0.00000000e+00,  3.72285440e-01,\n",
       "        0.00000000e+00,  0.00000000e+00, -5.49528703e-01, -0.00000000e+00,\n",
       "       -0.00000000e+00, -4.05522485e-02,  2.25864611e-01,  1.78508858e-01,\n",
       "        0.00000000e+00,  0.00000000e+00,  0.00000000e+00,  6.50874606e-02,\n",
       "       -0.00000000e+00, -2.07295802e-01, -0.00000000e+00,  3.71781995e-01,\n",
       "        0.00000000e+00, -0.00000000e+00, -5.89531100e-02,  3.47180625e-01,\n",
       "        0.00000000e+00,  9.23666274e-01,  3.48873365e-01,  7.29463442e-02,\n",
       "        0.00000000e+00,  0.00000000e+00,  7.68485586e-02, -7.21083596e-01,\n",
       "        0.00000000e+00, -5.98542558e-01,  4.18420677e-01, -7.98165728e-01,\n",
       "       -7.25062683e-01,  2.34818861e-01, -0.00000000e+00, -0.00000000e+00,\n",
       "        0.00000000e+00, -1.68164447e-02,  0.00000000e+00, -4.04477826e-01,\n",
       "       -4.22989874e-01, -4.06983988e-01, -3.75443720e-01,  4.17684564e-01,\n",
       "       -8.91841193e-01,  0.00000000e+00, -2.69309481e-01,  0.00000000e+00,\n",
       "        1.02286785e-01,  2.02570379e-01, -6.88345376e-01, -0.00000000e+00,\n",
       "       -1.08598703e+00, -3.98751731e-01, -9.37684760e-01, -1.17343147e-01,\n",
       "       -7.37427594e-01,  0.00000000e+00,  0.00000000e+00,  1.36340670e+00,\n",
       "       -0.00000000e+00, -2.94691228e-03, -8.98125013e-01, -8.68198373e-01,\n",
       "        8.03396788e-01, -1.91683803e-01, -1.14706070e-01,  0.00000000e+00,\n",
       "       -0.00000000e+00,  5.83161589e-01, -0.00000000e+00,  5.81365491e-02,\n",
       "        0.00000000e+00, -2.32896159e-01, -1.12440837e+00,  0.00000000e+00,\n",
       "        1.96286997e+00, -0.00000000e+00, -1.00915801e+00, -7.04656486e-02,\n",
       "       -1.06456357e-02, -4.78389591e-02, -3.97645601e-01, -3.84121840e-01,\n",
       "        9.97402419e-01])"
      ]
     },
     "execution_count": 20,
     "metadata": {},
     "output_type": "execute_result"
    }
   ],
   "source": [
    "best_estimator_lasso.named_steps[\"lasso_regression\"].coef_"
   ]
  },
  {
   "cell_type": "markdown",
   "id": "b3833be5-8e72-4780-97a8-dc26db532110",
   "metadata": {},
   "source": [
    "<br><br><h2 style=\"color:salmon;\">Exercise</h2>\n",
    "\n",
    "\n",
    "    \n",
    "<div style=\"color:#A9CCE3; font-size:1.5em\">\n",
    "\n",
    "Do the same, but with <code style=\"background-color:#FDEBD0; color:#CD6155;\">Ridge</code> regression\n",
    "\n",
    "Which model, <code style=\"background-color:#FDEBD0; color:#CD6155;\">Ridge</code> or <code style=\"background-color:#FDEBD0; color:#CD6155;\">Lasso</code>, performs best with its optimal hyperparameters on the Boston dataset?\n",
    "    \n",
    "</div>"
   ]
  },
  {
   "cell_type": "code",
   "execution_count": 21,
   "id": "4884cf40-c84f-4dbe-9214-685dc47a236d",
   "metadata": {},
   "outputs": [
    {
     "data": {
      "image/png": "[encoded data removed]",
      "text/plain": [
       "<Figure size 432x288 with 1 Axes>"
      ]
     },
     "metadata": {
      "needs_background": "light"
     },
     "output_type": "display_data"
    }
   ],
   "source": [
    "pf = PolynomialFeatures(degree=2)\n",
    "alphas = np.geomspace(4, 20, 20)\n",
    "scores_ridge = []\n",
    "\n",
    "for alpha in alphas:\n",
    "    ridge = Ridge(alpha=alpha, max_iter=100000)\n",
    "\n",
    "    estimator = Pipeline([\n",
    "        (\"scaler\", s),\n",
    "        (\"polynomial_features\", pf),\n",
    "        (\"ridge_regression\", ridge)])\n",
    "\n",
    "    predictions = cross_val_predict(estimator, X, y, cv = kf)\n",
    "    score = r2_score(y, predictions)\n",
    "    scores_ridge.append(score)\n",
    "\n",
    "plt.plot(alphas, scores_ridge)\n",
    "plt.xlabel('alpha')\n",
    "plt.ylabel('R2 score')\n",
    "plt.title('Ridge Regression with Polynomial Features')\n",
    "plt.show()\n"
   ]
  },
  {
   "cell_type": "markdown",
   "id": "12e11ebe-50e0-4331-96c8-94ff7b5e2d4b",
   "metadata": {},
   "source": [
    "<br><br><h2 style=\"color:salmon;\">Exercise</h2>\n",
    "\n",
    "\n",
    "    \n",
    "<div style=\"color:#A9CCE3; font-size:1.5em\">\n",
    "\n",
    "Now, for whatever your best overall hyperparameter was:\n",
    "\n",
    "*   Standardize the data\n",
    "*   Fit and predict on the entire dataset\n",
    "*   See what the largest coefficients were\n",
    "\n",
    "    → Hint:\n",
    "\n",
    "    ```python\n",
    "    dict(zip(model.coef_, pf.get_feature_names()))\n",
    "    ```\n",
    "\n",
    "    for your model `model` to get the feature names from `PolynomialFeatures`.\n",
    "\n",
    "    Then, use\n",
    "\n",
    "    ```python\n",
    "    dict(zip(list(range(len(X.columns.values))), X.columns.values))\n",
    "    ```\n",
    "\n",
    "    to see which features in the `PolynomialFeatures` DataFrame correspond to which columns in the original DataFrame.\n",
    "    \n",
    "</div>"
   ]
  },
  {
   "cell_type": "code",
   "execution_count": 22,
   "id": "39b0574a-b87a-42f8-92bf-61bc78cfac2c",
   "metadata": {},
   "outputs": [
    {
     "name": "stdout",
     "output_type": "stream",
     "text": [
      "Largest coefficients:\n",
      "x8^2: -4.991080527810556\n",
      "x0 x3: 4.603071935785574\n",
      "x8 x9: 4.240135996998103\n",
      "x5: 3.4310177264232076\n",
      "x12: -3.3062917492013835\n",
      "x7: -2.8095906306308196\n",
      "x2 x4: 2.3613798041858605\n",
      "x6 x8: 2.025348594855447\n",
      "x9 x10: 1.8804440396423487\n",
      "x7 x8: -1.461145090718384\n",
      "\n",
      "Largest coefficients mapped to original features:\n",
      "RAD: -1.4313647323025422\n",
      "AGE: -1.2512836094769035\n",
      "TAX: -1.1151009056641341\n",
      "RM: -0.9133769723234367\n",
      "CRIM: 0.8848308972022697\n",
      "ZN: 0.821859317290605\n",
      "DIS: 0.8069487079514248\n",
      "INDUS: -0.604969283887453\n",
      "NOX: 0.5918337042974662\n",
      "CHAS: -0.43820943823461894\n"
     ]
    }
   ],
   "source": [
    "\n",
    "# Extract features and target variable\n",
    "X = boston_data.drop('MEDV', axis=1)\n",
    "y = boston_data.MEDV\n",
    "\n",
    "# Standardize the data\n",
    "s = StandardScaler()\n",
    "X_std = s.fit_transform(X)\n",
    "\n",
    "# Fit and predict on the entire dataset\n",
    "pf = PolynomialFeatures(degree=2)\n",
    "X_poly = pf.fit_transform(X_std)\n",
    "lasso = Lasso(alpha=0.01, max_iter=100000)\n",
    "lasso.fit(X_poly, y)\n",
    "y_pred = lasso.predict(X_poly)\n",
    "\n",
    "# Get the largest coefficients\n",
    "coef_dict = dict(zip(pf.get_feature_names(), lasso.coef_))\n",
    "print(\"Largest coefficients:\")\n",
    "for feature, coef in sorted(coef_dict.items(), key=lambda x: abs(x[1]), reverse=True)[:10]:\n",
    "    print(f\"{feature}: {coef}\")\n",
    "    \n",
    "# Map the features in the PolynomialFeatures DataFrame to the original DataFrame\n",
    "original_feature_names = dict(zip(list(range(len(X.columns.values))), X.columns.values))\n",
    "coef_dict_mapped = {}\n",
    "for feature, coef in coef_dict.items():\n",
    "    feature_num = [int(s) for s in feature if s.isdigit()][0]\n",
    "    original_feature_name = original_feature_names[feature_num]\n",
    "    coef_dict_mapped[original_feature_name] = coef\n",
    "print()\n",
    "print(\"Largest coefficients mapped to original features:\")\n",
    "for feature, coef in sorted(coef_dict_mapped.items(), key=lambda x: abs(x[1]), reverse=True)[:10]:\n",
    "    print(f\"{feature}: {coef}\")\n"
   ]
  },
  {
   "cell_type": "markdown",
   "id": "c35111af-4ec4-4665-8a06-fcaf3ed75b66",
   "metadata": {},
   "source": [
    "   \n",
    "<div style=\"color:#A9CCE3; font-size:1.5em\">\n",
    "    \n",
    "<br>\n",
    "    \n",
    "If you want to have a dataframe az a result, let's call it `output_df`, then:\n",
    "\n",
    "    \n",
    "</div>"
   ]
  },
  {
   "cell_type": "code",
   "execution_count": 23,
   "id": "3d284929-1e3a-4cf4-877c-3930d4cd7cad",
   "metadata": {},
   "outputs": [],
   "source": [
    "# Standardize the data\n",
    "s = StandardScaler()\n",
    "X_std = s.fit_transform(X)\n",
    "\n",
    "# Fit and predict on the entire dataset\n",
    "pf = PolynomialFeatures(degree=2)\n",
    "X_poly = pf.fit_transform(X_std)\n",
    "ridge = Ridge(alpha=10, max_iter=100000)\n",
    "ridge.fit(X_poly, y)\n",
    "predictions = ridge.predict(X_poly)\n",
    "\n",
    "# Get feature names from PolynomialFeatures\n",
    "poly_names = pf.get_feature_names(X.columns)\n",
    "\n",
    "# Create a dictionary mapping polynomial features to original features\n",
    "feature_map = dict(zip(list(range(len(poly_names))), poly_names))\n",
    "\n",
    "# Get coefficients and sort them in descending order\n",
    "coef_dict = dict(zip(poly_names, ridge.coef_))\n",
    "sorted_coefs = sorted(coef_dict.items(), key=lambda x: abs(x[1]), reverse=True)\n",
    "\n",
    "# Create output DataFrame\n",
    "output_df = pd.DataFrame(columns=['Original Feature', 'Coefficient'])\n",
    "\n",
    "# Fill output DataFrame with largest coefficients and their corresponding original features\n",
    "for name, coef in sorted_coefs:\n",
    "    if abs(coef) > 0:\n",
    "        output_df = output_df.append({\n",
    "            'Original Feature': feature_map[poly_names.index(name)],\n",
    "            'Coefficient': coef\n",
    "        }, ignore_index=True)\n",
    "        \n",
    "# Sort output DataFrame by coefficient\n",
    "output_df = output_df.sort_values(by='Coefficient', key=lambda x: abs(x))\n"
   ]
  },
  {
   "cell_type": "code",
   "execution_count": 24,
   "id": "d937fc4c-cc15-4d50-b56c-cfeeb20316a7",
   "metadata": {},
   "outputs": [
    {
     "data": {
      "text/html": [
       "<div>\n",
       "<style scoped>\n",
       "    .dataframe tbody tr th:only-of-type {\n",
       "        vertical-align: middle;\n",
       "    }\n",
       "\n",
       "    .dataframe tbody tr th {\n",
       "        vertical-align: top;\n",
       "    }\n",
       "\n",
       "    .dataframe thead th {\n",
       "        text-align: right;\n",
       "    }\n",
       "</style>\n",
       "<table border=\"1\" class=\"dataframe\">\n",
       "  <thead>\n",
       "    <tr style=\"text-align: right;\">\n",
       "      <th></th>\n",
       "      <th>Original Feature</th>\n",
       "      <th>Coefficient</th>\n",
       "    </tr>\n",
       "  </thead>\n",
       "  <tbody>\n",
       "    <tr>\n",
       "      <th>103</th>\n",
       "      <td>CHAS RAD</td>\n",
       "      <td>-0.001890</td>\n",
       "    </tr>\n",
       "    <tr>\n",
       "      <th>102</th>\n",
       "      <td>ZN PTRATIO</td>\n",
       "      <td>0.010431</td>\n",
       "    </tr>\n",
       "    <tr>\n",
       "      <th>101</th>\n",
       "      <td>PTRATIO LSTAT</td>\n",
       "      <td>0.026827</td>\n",
       "    </tr>\n",
       "    <tr>\n",
       "      <th>100</th>\n",
       "      <td>ZN</td>\n",
       "      <td>-0.028282</td>\n",
       "    </tr>\n",
       "    <tr>\n",
       "      <th>99</th>\n",
       "      <td>ZN RM</td>\n",
       "      <td>0.037275</td>\n",
       "    </tr>\n",
       "    <tr>\n",
       "      <th>...</th>\n",
       "      <td>...</td>\n",
       "      <td>...</td>\n",
       "    </tr>\n",
       "    <tr>\n",
       "      <th>4</th>\n",
       "      <td>TAX PTRATIO</td>\n",
       "      <td>1.491081</td>\n",
       "    </tr>\n",
       "    <tr>\n",
       "      <th>3</th>\n",
       "      <td>CRIM CHAS</td>\n",
       "      <td>2.193068</td>\n",
       "    </tr>\n",
       "    <tr>\n",
       "      <th>2</th>\n",
       "      <td>DIS</td>\n",
       "      <td>-2.223542</td>\n",
       "    </tr>\n",
       "    <tr>\n",
       "      <th>1</th>\n",
       "      <td>LSTAT</td>\n",
       "      <td>-3.101785</td>\n",
       "    </tr>\n",
       "    <tr>\n",
       "      <th>0</th>\n",
       "      <td>RM</td>\n",
       "      <td>3.310039</td>\n",
       "    </tr>\n",
       "  </tbody>\n",
       "</table>\n",
       "<p>104 rows × 2 columns</p>\n",
       "</div>"
      ],
      "text/plain": [
       "    Original Feature  Coefficient\n",
       "103         CHAS RAD    -0.001890\n",
       "102       ZN PTRATIO     0.010431\n",
       "101    PTRATIO LSTAT     0.026827\n",
       "100               ZN    -0.028282\n",
       "99             ZN RM     0.037275\n",
       "..               ...          ...\n",
       "4        TAX PTRATIO     1.491081\n",
       "3          CRIM CHAS     2.193068\n",
       "2                DIS    -2.223542\n",
       "1              LSTAT    -3.101785\n",
       "0                 RM     3.310039\n",
       "\n",
       "[104 rows x 2 columns]"
      ]
     },
     "execution_count": 24,
     "metadata": {},
     "output_type": "execute_result"
    }
   ],
   "source": [
    "output_df"
   ]
  },
  {
   "cell_type": "markdown",
   "id": "bbad13ec-7f49-42f3-9588-dd2feefc8759",
   "metadata": {},
   "source": [
    "<br><br><h2 style=\"color:salmon;\">Grid Search CV</h2>\n",
    "\n",
    "\n",
    "    \n",
    "<div style=\"color:#A9CCE3; font-size:1.5em\">\n",
    "\n",
    "To do cross-validation, we used two techniques:\n",
    "\n",
    "*   use `KFolds` and manually create a loop to do cross-validation\n",
    "*   use `cross_val_predict` and `score` to get a cross-valiated score in a couple of lines.\n",
    "\n",
    "To do hyper-parameter tuning, we see a general pattern:\n",
    "\n",
    "*   use `cross_val_predict` and `score` in a manually written loop over hyperparemeters, then select the best one.\n",
    "\n",
    "Perhaps not surprisingly, there is a function that does this for us -- `GridSearchCV`\n",
    "    \n",
    "</div>"
   ]
  },
  {
   "cell_type": "code",
   "execution_count": 25,
   "id": "db1b4d82-d886-4241-8fe2-f9589a205682",
   "metadata": {},
   "outputs": [],
   "source": [
    "from sklearn.model_selection import GridSearchCV\n",
    "\n",
    "# Same estimator as before\n",
    "estimator = Pipeline([(\"scaler\", StandardScaler()),\n",
    "        (\"polynomial_features\", PolynomialFeatures()),\n",
    "        (\"ridge_regression\", Ridge())])\n",
    "\n",
    "params = {\n",
    "    'polynomial_features__degree': [1, 2, 3],\n",
    "    'ridge_regression__alpha': np.geomspace(4, 20, 30)\n",
    "}\n",
    "\n",
    "grid = GridSearchCV(estimator, params, cv=kf)"
   ]
  },
  {
   "cell_type": "code",
   "execution_count": 26,
   "id": "11b05b2b-5df7-42c7-8649-7f9a5baa6d07",
   "metadata": {},
   "outputs": [
    {
     "data": {
      "text/plain": [
       "GridSearchCV(cv=KFold(n_splits=3, random_state=72018, shuffle=True),\n",
       "             estimator=Pipeline(steps=[('scaler', StandardScaler()),\n",
       "                                       ('polynomial_features',\n",
       "                                        PolynomialFeatures()),\n",
       "                                       ('ridge_regression', Ridge())]),\n",
       "             param_grid={'polynomial_features__degree': [1, 2, 3],\n",
       "                         'ridge_regression__alpha': array([ 4.        ,  4.22826702,  4.46956049,  4.7246238 ,  4.99424274,\n",
       "        5.27924796,  5.58051751,  5.89897953,  6.23561514,  6.59146146,\n",
       "        6.96761476,  7.36523392,  7.78554391,  8.22983963,  8.69948987,\n",
       "        9.19594151,  9.72072404, 10.27545421, 10.86184103, 11.48169104,\n",
       "       12.13691388, 12.82952815, 13.56166768, 14.33558803, 15.15367351,\n",
       "       16.01844446, 16.93256509, 17.89885162, 18.92028098, 20.        ])})"
      ]
     },
     "execution_count": 26,
     "metadata": {},
     "output_type": "execute_result"
    }
   ],
   "source": [
    "grid.fit(X, y)"
   ]
  },
  {
   "cell_type": "code",
   "execution_count": 27,
   "id": "fca8b616-3a7a-461d-899c-c253a0dcfec1",
   "metadata": {},
   "outputs": [
    {
     "data": {
      "text/plain": [
       "(0.8504982950750941,\n",
       " {'polynomial_features__degree': 2,\n",
       "  'ridge_regression__alpha': 15.153673507519274})"
      ]
     },
     "execution_count": 27,
     "metadata": {},
     "output_type": "execute_result"
    }
   ],
   "source": [
    "grid.best_score_, grid.best_params_"
   ]
  },
  {
   "cell_type": "code",
   "execution_count": 28,
   "id": "3ea4f8d6-82e7-4d28-9f38-2aa90c2062fe",
   "metadata": {},
   "outputs": [],
   "source": [
    "y_predict = grid.predict(X)"
   ]
  },
  {
   "cell_type": "code",
   "execution_count": 29,
   "id": "bcb6e64d-45ef-4bf3-9669-d63030abebdf",
   "metadata": {},
   "outputs": [
    {
     "data": {
      "text/plain": [
       "0.9149145594213685"
      ]
     },
     "execution_count": 29,
     "metadata": {},
     "output_type": "execute_result"
    }
   ],
   "source": [
    "# This includes both in-sample and out-of-sample\n",
    "r2_score(y, y_predict)"
   ]
  },
  {
   "cell_type": "code",
   "execution_count": 30,
   "id": "aa895166-a088-4715-8338-c99d5fdbd8d6",
   "metadata": {},
   "outputs": [
    {
     "data": {
      "text/plain": [
       "array([ 0.00000000e+00, -1.27346408e-01, -6.16205046e-03,  2.36135244e-02,\n",
       "        1.00398027e-01, -9.74110586e-01,  3.26236441e+00, -9.65057238e-01,\n",
       "       -1.96344725e+00,  8.56769182e-01, -1.01488960e+00, -7.06985966e-01,\n",
       "        5.52029222e-01, -3.03254502e+00,  7.74127927e-02,  7.24276605e-02,\n",
       "        6.82776638e-02,  1.72849044e+00, -4.80758341e-01,  5.76219972e-01,\n",
       "        1.28132069e-01,  2.22931335e-01, -7.45243542e-01,  1.66582495e-01,\n",
       "       -8.00025634e-02, -8.54571642e-02,  5.07490801e-01,  2.14820391e-01,\n",
       "       -1.48833274e-01,  1.42098626e-01,  1.93770221e-01,  5.02304885e-02,\n",
       "       -1.12667821e-01, -2.77559685e-01, -1.32870713e-01,  7.32239658e-01,\n",
       "        5.26857333e-02,  8.89966580e-02, -2.72228558e-01,  5.84383917e-01,\n",
       "        1.06306947e-01,  9.62971619e-01,  5.76845132e-01,  5.33378179e-01,\n",
       "        7.07913980e-01, -6.21760626e-02,  7.57641545e-02, -4.28157866e-01,\n",
       "        2.40651011e-01, -6.82201736e-01,  3.40931549e-01, -9.62217889e-01,\n",
       "       -8.14997204e-01,  2.81353294e-01,  5.50023518e-02,  8.65917517e-02,\n",
       "        6.28285056e-01, -1.40764851e-01, -1.03645734e-01, -3.81965497e-01,\n",
       "       -4.48817407e-01, -4.46562934e-01, -4.97293983e-01,  7.52862844e-01,\n",
       "       -8.00745322e-01,  7.86779267e-02, -5.78298566e-01, -4.98398516e-02,\n",
       "        5.37001246e-01,  2.24913740e-01, -7.11059542e-01,  5.70498060e-02,\n",
       "       -7.85214394e-01, -9.18516132e-01, -1.02907666e+00, -1.58937491e-01,\n",
       "       -7.77699453e-01,  1.42895792e-01,  7.72299871e-02,  1.08239035e+00,\n",
       "        3.98859145e-02, -7.26596891e-02, -9.64695031e-01, -1.12682105e+00,\n",
       "        1.01829108e+00, -6.12786851e-01, -4.22714073e-01, -1.41672983e-01,\n",
       "       -2.68672373e-01,  8.23071041e-01, -8.66106901e-01,  8.83695240e-01,\n",
       "        3.63975663e-01, -1.13200717e-01, -1.12043738e+00,  2.19170412e-03,\n",
       "        1.30087563e+00, -3.65505003e-01, -1.08425883e+00, -1.16852284e-01,\n",
       "        8.62081670e-02,  1.40937541e-03, -3.62535906e-01, -4.04519520e-01,\n",
       "        8.07960994e-01])"
      ]
     },
     "execution_count": 30,
     "metadata": {},
     "output_type": "execute_result"
    }
   ],
   "source": [
    "# Notice that \"grid\" is a fit object!\n",
    "# We can use grid.predict(X_test) to get brand new predictions!\n",
    "grid.best_estimator_.named_steps['ridge_regression'].coef_"
   ]
  },
  {
   "cell_type": "code",
   "execution_count": 31,
   "id": "4d79470e-87c5-4edd-8e48-d60fd54ac2f0",
   "metadata": {
    "scrolled": true,
    "tags": []
   },
   "outputs": [],
   "source": [
    "#uncomment the below to see the results:\n",
    "#grid.cv_results_"
   ]
  }
 ],
 "metadata": {
  "kernelspec": {
   "display_name": "Python 3 (ipykernel)",
   "language": "python",
   "name": "python3"
  },
  "language_info": {
   "codemirror_mode": {
    "name": "ipython",
    "version": 3
   },
   "file_extension": ".py",
   "mimetype": "text/x-python",
   "name": "python",
   "nbconvert_exporter": "python",
   "pygments_lexer": "ipython3",
   "version": "3.9.12"
  }
 },
 "nbformat": 4,
 "nbformat_minor": 5
}
