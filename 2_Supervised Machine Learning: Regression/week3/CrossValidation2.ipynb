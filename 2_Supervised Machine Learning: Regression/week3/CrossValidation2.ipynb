{
 "cells": [
  {
   "cell_type": "markdown",
   "id": "0cd2c168-49b3-4b80-8f67-a32cb74c74df",
   "metadata": {},
   "source": [
    "<h1 style=\"color:salmon; font-size:2.5em;\">Cross Validation2</h1>\n",
    "\n",
    "<div style=\"color:#A9CCE3; font-size:1.5em\">\n",
    "    \n",
    "When performing supervised machine learning analysis, it is common to withhold a portion of the data to test the final model's performance. This model testing is performed on the 'unseen' data, which the model was not trained on. This withholding of a portion of the dataset for testing is called Cross-Validation. Cross-Validation can also be used to select hyper-parameters and test the final model. In this section, we will focus on the test data only.\n",
    "\n",
    "Cross-Validation also helps avoid over-fitting; a complex model could repeat the labels of the samples that it has just seen and, therefore, would have a perfect score but would fail to predict anything useful on the 'unseen' data. Furthermore, a complex model could just be modeling noise.\n",
    "\n",
    "Cross validation method involves dividing the dataset into 3 parts:\n",
    "\n",
    "<li>training set - is a portion of the data used for training the model</li>\n",
    "<li>validation set - is a portion of the data used to optimize the hyper-parameters of the model. This will be illustrated in the next lab\n",
    "<li>test set - is a portion of the data used to evaluate if the model generalizes enough to work on the data it was not trained on</li>\n",
    "<br>\n",
    "<code style=\"background-color:#FDEBD0; color:#CD6155;\">Scikit Learn</code> library contains many methods that can perform the splitting of the data into training, testing and validation sets. The most popular methods that we will cover now:\n",
    "\n",
    "<li><code style=\"background-color:#FDEBD0; color:#CD6155;\">train_test_split</code> - creates a single split into train and test sets</li>\n",
    "<li><code style=\"background-color:#FDEBD0; color:#CD6155;\">K-fold</code> - creates number of k-fold splits, allowing cross validation</li>\n",
    "<li><code style=\"background-color:#FDEBD0; color:#CD6155;\">cross_val_score</code> - evaluates model's score through cross validation</li>\n",
    "    \n",
    "</div>"
   ]
  },
  {
   "cell_type": "code",
   "execution_count": 1,
   "id": "4ba803bd-6f57-460f-aa46-d007628254af",
   "metadata": {},
   "outputs": [],
   "source": [
    "# Surpress warnings:\n",
    "def warn(*args, **kwargs):\n",
    "    pass\n",
    "import warnings\n",
    "warnings.warn = warn"
   ]
  },
  {
   "cell_type": "code",
   "execution_count": 2,
   "id": "9c2e3004-52f8-4dd5-8d34-eac2b30dd03e",
   "metadata": {},
   "outputs": [],
   "source": [
    "import pandas as pd\n",
    "import numpy as np \n",
    "\n",
    "import seaborn as sns \n",
    "import matplotlib.pylab as plt\n",
    "%matplotlib inline\n",
    "\n",
    "from sklearn.preprocessing import StandardScaler, Normalizer\n",
    "from sklearn.model_selection import train_test_split, cross_val_score, KFold, GridSearchCV\n",
    "from sklearn.metrics import r2_score, mean_squared_error\n",
    "from sklearn.feature_selection import RFE\n",
    "from sklearn.linear_model import LinearRegression\n",
    "from sklearn.pipeline import Pipeline\n"
   ]
  },
  {
   "cell_type": "code",
   "execution_count": 3,
   "id": "38b323c3-8877-4377-b81f-a3c8553330af",
   "metadata": {},
   "outputs": [
    {
     "data": {
      "text/html": [
       "<div>\n",
       "<style scoped>\n",
       "    .dataframe tbody tr th:only-of-type {\n",
       "        vertical-align: middle;\n",
       "    }\n",
       "\n",
       "    .dataframe tbody tr th {\n",
       "        vertical-align: top;\n",
       "    }\n",
       "\n",
       "    .dataframe thead th {\n",
       "        text-align: right;\n",
       "    }\n",
       "</style>\n",
       "<table border=\"1\" class=\"dataframe\">\n",
       "  <thead>\n",
       "    <tr style=\"text-align: right;\">\n",
       "      <th></th>\n",
       "      <th>diesel</th>\n",
       "      <th>gas</th>\n",
       "      <th>std</th>\n",
       "      <th>turbo</th>\n",
       "      <th>convertible</th>\n",
       "      <th>hardtop</th>\n",
       "      <th>hatchback</th>\n",
       "      <th>sedan</th>\n",
       "      <th>wagon</th>\n",
       "      <th>4wd</th>\n",
       "      <th>...</th>\n",
       "      <th>wheelbase</th>\n",
       "      <th>curbweight</th>\n",
       "      <th>enginesize</th>\n",
       "      <th>boreratio</th>\n",
       "      <th>horsepower</th>\n",
       "      <th>carlength</th>\n",
       "      <th>carwidth</th>\n",
       "      <th>citympg</th>\n",
       "      <th>highwaympg</th>\n",
       "      <th>price</th>\n",
       "    </tr>\n",
       "  </thead>\n",
       "  <tbody>\n",
       "    <tr>\n",
       "      <th>0</th>\n",
       "      <td>0.0</td>\n",
       "      <td>1.0</td>\n",
       "      <td>1.0</td>\n",
       "      <td>0.0</td>\n",
       "      <td>1.0</td>\n",
       "      <td>0.0</td>\n",
       "      <td>0.0</td>\n",
       "      <td>0.0</td>\n",
       "      <td>0.0</td>\n",
       "      <td>0.0</td>\n",
       "      <td>...</td>\n",
       "      <td>88.6</td>\n",
       "      <td>2548.0</td>\n",
       "      <td>130.0</td>\n",
       "      <td>3.47</td>\n",
       "      <td>111.0</td>\n",
       "      <td>168.8</td>\n",
       "      <td>64.1</td>\n",
       "      <td>21.0</td>\n",
       "      <td>27.0</td>\n",
       "      <td>13495.0</td>\n",
       "    </tr>\n",
       "    <tr>\n",
       "      <th>1</th>\n",
       "      <td>0.0</td>\n",
       "      <td>1.0</td>\n",
       "      <td>1.0</td>\n",
       "      <td>0.0</td>\n",
       "      <td>1.0</td>\n",
       "      <td>0.0</td>\n",
       "      <td>0.0</td>\n",
       "      <td>0.0</td>\n",
       "      <td>0.0</td>\n",
       "      <td>0.0</td>\n",
       "      <td>...</td>\n",
       "      <td>88.6</td>\n",
       "      <td>2548.0</td>\n",
       "      <td>130.0</td>\n",
       "      <td>3.47</td>\n",
       "      <td>111.0</td>\n",
       "      <td>168.8</td>\n",
       "      <td>64.1</td>\n",
       "      <td>21.0</td>\n",
       "      <td>27.0</td>\n",
       "      <td>16500.0</td>\n",
       "    </tr>\n",
       "    <tr>\n",
       "      <th>2</th>\n",
       "      <td>0.0</td>\n",
       "      <td>1.0</td>\n",
       "      <td>1.0</td>\n",
       "      <td>0.0</td>\n",
       "      <td>0.0</td>\n",
       "      <td>0.0</td>\n",
       "      <td>1.0</td>\n",
       "      <td>0.0</td>\n",
       "      <td>0.0</td>\n",
       "      <td>0.0</td>\n",
       "      <td>...</td>\n",
       "      <td>94.5</td>\n",
       "      <td>2823.0</td>\n",
       "      <td>152.0</td>\n",
       "      <td>2.68</td>\n",
       "      <td>154.0</td>\n",
       "      <td>171.2</td>\n",
       "      <td>65.5</td>\n",
       "      <td>19.0</td>\n",
       "      <td>26.0</td>\n",
       "      <td>16500.0</td>\n",
       "    </tr>\n",
       "    <tr>\n",
       "      <th>3</th>\n",
       "      <td>0.0</td>\n",
       "      <td>1.0</td>\n",
       "      <td>1.0</td>\n",
       "      <td>0.0</td>\n",
       "      <td>0.0</td>\n",
       "      <td>0.0</td>\n",
       "      <td>0.0</td>\n",
       "      <td>1.0</td>\n",
       "      <td>0.0</td>\n",
       "      <td>0.0</td>\n",
       "      <td>...</td>\n",
       "      <td>99.8</td>\n",
       "      <td>2337.0</td>\n",
       "      <td>109.0</td>\n",
       "      <td>3.19</td>\n",
       "      <td>102.0</td>\n",
       "      <td>176.6</td>\n",
       "      <td>66.2</td>\n",
       "      <td>24.0</td>\n",
       "      <td>30.0</td>\n",
       "      <td>13950.0</td>\n",
       "    </tr>\n",
       "    <tr>\n",
       "      <th>4</th>\n",
       "      <td>0.0</td>\n",
       "      <td>1.0</td>\n",
       "      <td>1.0</td>\n",
       "      <td>0.0</td>\n",
       "      <td>0.0</td>\n",
       "      <td>0.0</td>\n",
       "      <td>0.0</td>\n",
       "      <td>1.0</td>\n",
       "      <td>0.0</td>\n",
       "      <td>1.0</td>\n",
       "      <td>...</td>\n",
       "      <td>99.4</td>\n",
       "      <td>2824.0</td>\n",
       "      <td>136.0</td>\n",
       "      <td>3.19</td>\n",
       "      <td>115.0</td>\n",
       "      <td>176.6</td>\n",
       "      <td>66.4</td>\n",
       "      <td>18.0</td>\n",
       "      <td>22.0</td>\n",
       "      <td>17450.0</td>\n",
       "    </tr>\n",
       "  </tbody>\n",
       "</table>\n",
       "<p>5 rows × 36 columns</p>\n",
       "</div>"
      ],
      "text/plain": [
       "   diesel  gas  std  turbo  convertible  hardtop  hatchback  sedan  wagon  \\\n",
       "0     0.0  1.0  1.0    0.0          1.0      0.0        0.0    0.0    0.0   \n",
       "1     0.0  1.0  1.0    0.0          1.0      0.0        0.0    0.0    0.0   \n",
       "2     0.0  1.0  1.0    0.0          0.0      0.0        1.0    0.0    0.0   \n",
       "3     0.0  1.0  1.0    0.0          0.0      0.0        0.0    1.0    0.0   \n",
       "4     0.0  1.0  1.0    0.0          0.0      0.0        0.0    1.0    0.0   \n",
       "\n",
       "   4wd  ...  wheelbase  curbweight  enginesize  boreratio  horsepower  \\\n",
       "0  0.0  ...       88.6      2548.0       130.0       3.47       111.0   \n",
       "1  0.0  ...       88.6      2548.0       130.0       3.47       111.0   \n",
       "2  0.0  ...       94.5      2823.0       152.0       2.68       154.0   \n",
       "3  0.0  ...       99.8      2337.0       109.0       3.19       102.0   \n",
       "4  1.0  ...       99.4      2824.0       136.0       3.19       115.0   \n",
       "\n",
       "   carlength  carwidth  citympg  highwaympg    price  \n",
       "0      168.8      64.1     21.0        27.0  13495.0  \n",
       "1      168.8      64.1     21.0        27.0  16500.0  \n",
       "2      171.2      65.5     19.0        26.0  16500.0  \n",
       "3      176.6      66.2     24.0        30.0  13950.0  \n",
       "4      176.6      66.4     18.0        22.0  17450.0  \n",
       "\n",
       "[5 rows x 36 columns]"
      ]
     },
     "execution_count": 3,
     "metadata": {},
     "output_type": "execute_result"
    }
   ],
   "source": [
    "# load the data\n",
    "\n",
    "url = 'https://cf-courses-data.s3.us.cloud-object-storage.appdomain.cloud/IBM-ML240EN-SkillsNetwork/labs/encoded_car_data.csv'\n",
    "data = pd.read_csv(url)\n",
    "data.head()"
   ]
  },
  {
   "cell_type": "code",
   "execution_count": 4,
   "id": "93180ac0-003c-4720-bcc1-f9e5032d1ba2",
   "metadata": {},
   "outputs": [
    {
     "data": {
      "text/plain": [
       "float64    36\n",
       "dtype: int64"
      ]
     },
     "execution_count": 4,
     "metadata": {},
     "output_type": "execute_result"
    }
   ],
   "source": [
    "data.dtypes.value_counts()"
   ]
  },
  {
   "cell_type": "code",
   "execution_count": 5,
   "id": "df7aa715-8bbf-48ac-b036-6fb4d7759bee",
   "metadata": {},
   "outputs": [
    {
     "name": "stdout",
     "output_type": "stream",
     "text": [
      "<class 'pandas.core.frame.DataFrame'>\n",
      "RangeIndex: 205 entries, 0 to 204\n",
      "Data columns (total 36 columns):\n",
      " #   Column       Non-Null Count  Dtype  \n",
      "---  ------       --------------  -----  \n",
      " 0   diesel       205 non-null    float64\n",
      " 1   gas          205 non-null    float64\n",
      " 2   std          205 non-null    float64\n",
      " 3   turbo        205 non-null    float64\n",
      " 4   convertible  205 non-null    float64\n",
      " 5   hardtop      205 non-null    float64\n",
      " 6   hatchback    205 non-null    float64\n",
      " 7   sedan        205 non-null    float64\n",
      " 8   wagon        205 non-null    float64\n",
      " 9   4wd          205 non-null    float64\n",
      " 10  fwd          205 non-null    float64\n",
      " 11  rwd          205 non-null    float64\n",
      " 12  dohc         205 non-null    float64\n",
      " 13  dohcv        205 non-null    float64\n",
      " 14  l            205 non-null    float64\n",
      " 15  ohc          205 non-null    float64\n",
      " 16  ohcf         205 non-null    float64\n",
      " 17  ohcv         205 non-null    float64\n",
      " 18  rotor        205 non-null    float64\n",
      " 19  eight        205 non-null    float64\n",
      " 20  five         205 non-null    float64\n",
      " 21  four         205 non-null    float64\n",
      " 22  six          205 non-null    float64\n",
      " 23  three        205 non-null    float64\n",
      " 24  twelve       205 non-null    float64\n",
      " 25  two          205 non-null    float64\n",
      " 26  wheelbase    205 non-null    float64\n",
      " 27  curbweight   205 non-null    float64\n",
      " 28  enginesize   205 non-null    float64\n",
      " 29  boreratio    205 non-null    float64\n",
      " 30  horsepower   205 non-null    float64\n",
      " 31  carlength    205 non-null    float64\n",
      " 32  carwidth     205 non-null    float64\n",
      " 33  citympg      205 non-null    float64\n",
      " 34  highwaympg   205 non-null    float64\n",
      " 35  price        205 non-null    float64\n",
      "dtypes: float64(36)\n",
      "memory usage: 57.8 KB\n"
     ]
    }
   ],
   "source": [
    "data.info()"
   ]
  },
  {
   "cell_type": "markdown",
   "id": "ef930f06-d543-4e1b-b592-7b10691c8cf2",
   "metadata": {},
   "source": [
    "<div style=\"color:#A9CCE3; font-size:1.5em\">\n",
    "    \n",
    "→ As we see from above, we now have only numeric parameters.\n",
    "    \n",
    "</div>"
   ]
  },
  {
   "cell_type": "code",
   "execution_count": 6,
   "id": "3ee18846-1890-48b8-8ead-a4e1b6c1680f",
   "metadata": {},
   "outputs": [],
   "source": [
    "# split our data into X features and y target.\n",
    "X = data.drop(columns=['price'])\n",
    "y = data['price'].copy()"
   ]
  },
  {
   "cell_type": "code",
   "execution_count": 7,
   "id": "e269f1a9-17fb-4a65-8e45-2c47d51461a0",
   "metadata": {},
   "outputs": [],
   "source": [
    "X_train, X_test, y_train, y_test = train_test_split(X,y, test_size=0.3, random_state=42)\n",
    "# model:\n",
    "lr = LinearRegression()\n",
    "# model fit:\n",
    "lr.fit(X_train, y_train)\n",
    "# predicteion:\n",
    "predicted =lr.predict(X_test)"
   ]
  },
  {
   "cell_type": "markdown",
   "id": "a2ee7884-2145-4718-8300-8f29c12a19f8",
   "metadata": {},
   "source": [
    "<div style=\"color:#A9CCE3; font-size:1.5em\">\n",
    "    \n",
    "Now, let's check some evaluation statistics, such as the coefficient of determination, $R^{2}$, using the built-in method `score` or  `r2_score`, and the Root Mean Square Error, RMSE, for which we can use the `mean_squared_error` method, MSE.\n",
    "\n",
    "The $R^{2}$ statistic indicates the percentage of the variance in the dependent variable that the independent variables explain collectively.\n",
    "\n",
    "Root Mean Square Error (RMSE) is the standard deviation of the residuals (prediction errors). Residuals are a measure of how far from the regression line data points are; RMSE is a measure of how spread out these residuals are. In other words, it tells you how concentrated the data is around the line of best fit.\n",
    "    \n",
    "</div>"
   ]
  },
  {
   "cell_type": "code",
   "execution_count": 8,
   "id": "2f419736-2745-465a-a30e-80614e54c5c0",
   "metadata": {},
   "outputs": [
    {
     "data": {
      "text/plain": [
       "0.9261981895971949"
      ]
     },
     "execution_count": 8,
     "metadata": {},
     "output_type": "execute_result"
    }
   ],
   "source": [
    "lr.score(X_train,y_train)"
   ]
  },
  {
   "cell_type": "markdown",
   "id": "f6125a5b-f100-43fb-97e7-9926022a99ff",
   "metadata": {},
   "source": [
    "<div style=\"color:#A9CCE3; font-size:1.5em\">\n",
    "    \n",
    ">&#128161; <em>Using the training data only, the $R^{2}$ is \\~ 0.93. So, almost 93% of variability in the training data is explained by our model.</em>\n",
    "\n",
    "    \n",
    "</div>"
   ]
  },
  {
   "cell_type": "code",
   "execution_count": 9,
   "id": "208b6835-77a0-4e29-975e-421abb8a021b",
   "metadata": {},
   "outputs": [
    {
     "data": {
      "text/plain": [
       "0.8500551011878996"
      ]
     },
     "execution_count": 9,
     "metadata": {},
     "output_type": "execute_result"
    }
   ],
   "source": [
    "lr.score(X_test,y_test)"
   ]
  },
  {
   "cell_type": "code",
   "execution_count": 10,
   "id": "8d246686-af7c-48e8-99c7-f5fac5e656a1",
   "metadata": {},
   "outputs": [
    {
     "name": "stdout",
     "output_type": "stream",
     "text": [
      "0.8500551011878996\n"
     ]
    }
   ],
   "source": [
    "# using r2_score with the same result:\n",
    "print(r2_score(y_true=y_test, y_pred=predicted))"
   ]
  },
  {
   "cell_type": "markdown",
   "id": "3b61ea7f-9f5b-4592-80c7-3bee3bead969",
   "metadata": {},
   "source": [
    "<div style=\"color:#A9CCE3; font-size:1.5em\">\n",
    "    \n",
    ">&#128161; <em>Using the test data  $R^{2}$, we get \\~0.85, not as good as the previous score.\n",
    "</em>\n",
    "\n",
    "    \n",
    "</div>"
   ]
  },
  {
   "cell_type": "markdown",
   "id": "491a68a5-a3df-4db0-8509-e52946fd758c",
   "metadata": {},
   "source": [
    "<div style=\"color:#A9CCE3; font-size:1.5em\">\n",
    "    \n",
    "Now, let's calculate the RMSE. The smaller the RMSE number the better our model is.\n",
    "We apply `mean_squared_error` to our `y_test` and our predicted data. <br>Then, we take a square root of our MSE, using `np.sqrt()` function.\n",
    "\n",
    "\n",
    "    \n",
    "</div>"
   ]
  },
  {
   "cell_type": "code",
   "execution_count": 11,
   "id": "8356bedf-c019-4aea-9a39-ff72f1f75ecf",
   "metadata": {},
   "outputs": [
    {
     "data": {
      "text/plain": [
       "3223.172216951375"
      ]
     },
     "execution_count": 11,
     "metadata": {},
     "output_type": "execute_result"
    }
   ],
   "source": [
    "mse = mean_squared_error(y_true=y_test, y_pred=predicted)\n",
    "rmse = np.sqrt(mse)\n",
    "rmse"
   ]
  },
  {
   "cell_type": "markdown",
   "id": "e0f5a034-9891-4394-8967-c0ef3c1df4d9",
   "metadata": {},
   "source": [
    "\n",
    "<h2 style=\"color:salmon;\"> Prediction Example</h2>\n",
    "    \n",
    "<div style=\"color:#A9CCE3; font-size:1.5em\">\n",
    "    \n",
    "Let's select some random data, using `iloc` and see some predicted versus actual values for the car prices.\n",
    "\n",
    "<div>"
   ]
  },
  {
   "cell_type": "code",
   "execution_count": 12,
   "id": "e8fdb0b8-9bfc-4c62-a72e-b753f6226d34",
   "metadata": {},
   "outputs": [
    {
     "name": "stdout",
     "output_type": "stream",
     "text": [
      "Predictions: [13136.5 13136.5 15331.5]\n",
      "Labels: [13495.0, 16500.0, 16500.0]\n"
     ]
    }
   ],
   "source": [
    "some_data = X.iloc[:3]\n",
    "some_labels = y.iloc[:3]\n",
    "\n",
    "print(\"Predictions:\", lr.predict(some_data))\n",
    "print(\"Labels:\", list(some_labels))"
   ]
  },
  {
   "cell_type": "code",
   "execution_count": 13,
   "id": "b8384961-b81b-4d9f-a7da-b9fdb8f64e84",
   "metadata": {},
   "outputs": [
    {
     "data": {
      "text/plain": [
       "array([27673.  , 21306.5 , 10731.75, 12098.5 , 26182.5 ,  5422.75,\n",
       "        8206.75,  7521.25, 10133.25,  9568.25, 17289.25,  7369.25,\n",
       "       16499.5 , 10778.75, 39805.5 ,  5530.25,  2453.  , 15548.5 ,\n",
       "       10740.75, 11435.25, 10798.  , 15860.5 , 10356.  ,  3644.75,\n",
       "        6992.5 , 28662.75, 18291.  , 15265.75,  4490.5 , 16435.25,\n",
       "       26810.75,  5815.5 ,  4933.75, 16826.5 ,  8276.5 , 30296.75,\n",
       "       12268.5 , 12934.25,  6289.75, 15975.5 ,  8184.  , 15277.75,\n",
       "       14764.25,  5273.5 ,  6240.5 ,  9097.  ,  5815.5 ,  7237.25,\n",
       "       16745.  , 15406.75,  5050.5 , 21925.  ,  7226.75, 11396.  ,\n",
       "        4428.25, 16473.5 , 18310.  , 12934.25, 29684.25,  5446.25,\n",
       "        9815.5 , 17210.5 ])"
      ]
     },
     "execution_count": 13,
     "metadata": {},
     "output_type": "execute_result"
    }
   ],
   "source": [
    "predicted = lr.predict(X_test)\n",
    "predicted"
   ]
  },
  {
   "cell_type": "markdown",
   "id": "b6f15359-414d-455b-b6c0-4efc5de5fd8e",
   "metadata": {},
   "source": [
    "\n",
    "    \n",
    "<div style=\"color:#A9CCE3; font-size:1.5em\">\n",
    "    \n",
    "We can also use the pipeline to run operations on our data. For example we can standardize our data then perform linear regression by applying the method <code>fit</code>.\n",
    "\n",
    "\n",
    "<div>"
   ]
  },
  {
   "cell_type": "code",
   "execution_count": 14,
   "id": "ac94f7f1-d218-4d3f-9ddf-0f0cf6937c0e",
   "metadata": {},
   "outputs": [
    {
     "data": {
      "text/plain": [
       "Pipeline(steps=[('ss', StandardScaler()), ('lr', LinearRegression())])"
      ]
     },
     "execution_count": 14,
     "metadata": {},
     "output_type": "execute_result"
    }
   ],
   "source": [
    "pipe = Pipeline([('ss',StandardScaler() ),('lr', LinearRegression())])\n",
    "pipe.fit(X_train,y_train)\n",
    "pipe"
   ]
  },
  {
   "cell_type": "code",
   "execution_count": 15,
   "id": "f970630f-a5e6-43bd-a9a4-956e36258728",
   "metadata": {},
   "outputs": [
    {
     "data": {
      "text/plain": [
       "0.9262722224294516"
      ]
     },
     "execution_count": 15,
     "metadata": {},
     "output_type": "execute_result"
    }
   ],
   "source": [
    "# Let's calculate the R squared\n",
    "pipe.score(X_train,y_train)"
   ]
  },
  {
   "cell_type": "markdown",
   "id": "e92d9c4f-213f-43c5-a736-0d91aee06a0c",
   "metadata": {},
   "source": [
    "→ Using the training data only, the R squared is ~ 0.93.<br>\n",
    "Now, let's check the R squared on the test set."
   ]
  },
  {
   "cell_type": "code",
   "execution_count": 16,
   "id": "631b92a7-c1f7-4a10-945e-364e01495ef0",
   "metadata": {},
   "outputs": [
    {
     "data": {
      "text/plain": [
       "0.8419174509630335"
      ]
     },
     "execution_count": 16,
     "metadata": {},
     "output_type": "execute_result"
    }
   ],
   "source": [
    "pipe.score(X_test,y_test)"
   ]
  },
  {
   "cell_type": "markdown",
   "id": "9e2a8015-2e36-48e5-8874-8f777e82cbcd",
   "metadata": {},
   "source": [
    "→ The R squared is much lower. This value provides more accurate evaluation of our model since we test our model on the 'unseen' data set. In case if the R squared is negative, it is because the model is too complex and the data is overfitting. For more information, please, visit this documentation on overfitting.\n",
    "\n",
    "This will make more sense when we explore polynomial regression."
   ]
  },
  {
   "cell_type": "markdown",
   "id": "3a3e4116-b18a-4d5c-afa3-571fdc89b764",
   "metadata": {},
   "source": [
    "\n",
    "<h2 style=\"color:salmon;\"> Exercise 1</h2>\n",
    "    \n",
    "<div style=\"color:#A9CCE3; font-size:1.5em\">\n",
    "    \n",
    "Create a pipeline object called pipe1, replace standardization with normalization. Calculate the $R^{2}$ using the built-in method `score` and for RMSE, using `mean_squared_error` method.\n",
    "    \n",
    "<div>"
   ]
  },
  {
   "cell_type": "code",
   "execution_count": 17,
   "id": "8d568fc4-106a-41e1-9040-a943c68a633d",
   "metadata": {},
   "outputs": [
    {
     "name": "stdout",
     "output_type": "stream",
     "text": [
      "R2: -1.346604622143935e+18\n",
      "RMSE: 9659123380530.787\n"
     ]
    }
   ],
   "source": [
    "pipe1 = Pipeline([('norm', Normalizer() ),('lr', LinearRegression())])\n",
    "pipe1.fit(X_train,y_train)\n",
    "\n",
    "# Calculate R2 and RMSE on the test set\n",
    "y_pred = pipe1.predict(X_test)\n",
    "r2 = pipe1.score(X_test, y_test)\n",
    "rmse = mean_squared_error(y_test, y_pred, squared=False)\n",
    "\n",
    "print(\"R2:\", r2)\n",
    "print(\"RMSE:\", rmse)"
   ]
  },
  {
   "cell_type": "markdown",
   "id": "3960e1e0-866a-4415-a2f2-1d3abbb4d552",
   "metadata": {},
   "source": [
    "<div style=\"color:#A9CCE3; font-size:1.5em\">\n",
    "    \n",
    "Note, you can also use `normalize` by setting the `LinearRegression(normalize=True)`:\n",
    "\n",
    "    \n",
    "<div>\n",
    "    \n",
    "```python\n",
    "pipe1 = Pipeline([\n",
    "    ('norm', Normalizer()),\n",
    "    ('lr', LinearRegression(normalize=True))\n",
    "])\n",
    "# rest of the code is the same\n",
    "```"
   ]
  },
  {
   "cell_type": "markdown",
   "id": "968c7299-496d-42a0-b8cc-709215f816d9",
   "metadata": {},
   "source": [
    "\n",
    "<h2 style=\"color:salmon;\"> One feature</h2>\n",
    "    \n",
    "<div style=\"color:#A9CCE3; font-size:1.5em\">\n",
    "    \n",
    "We can use the test data to select a feature with the best performance. We have a list of features:\n",
    "\n",
    "    \n",
    "<div>"
   ]
  },
  {
   "cell_type": "code",
   "execution_count": 19,
   "id": "3de2489e-95c7-40e1-964f-ee85121741d3",
   "metadata": {},
   "outputs": [
    {
     "name": "stdout",
     "output_type": "stream",
     "text": [
      "['diesel', 'gas', 'std', 'turbo', 'convertible', 'hardtop', 'hatchback', 'sedan', 'wagon', '4wd', 'fwd', 'rwd', 'dohc', 'dohcv', 'l', 'ohc', 'ohcf', 'ohcv', 'rotor', 'eight', 'five', 'four', 'six', 'three', 'twelve', 'two', 'wheelbase', 'curbweight', 'enginesize', 'boreratio', 'horsepower', 'carlength', 'carwidth', 'citympg', 'highwaympg']\n"
     ]
    }
   ],
   "source": [
    "features=list(X)\n",
    "print(features, sep=' | ')"
   ]
  },
  {
   "cell_type": "markdown",
   "id": "cc1fc8dd-4692-4f1f-8269-9fdc7a85a7c3",
   "metadata": {},
   "source": [
    "<div style=\"color:#A9CCE3; font-size:1.5em\">\n",
    "    \n",
    "We can train a linear regression model using each feature and use the test data to obtain the best feature.\n",
    "    \n",
    "<div>"
   ]
  },
  {
   "cell_type": "code",
   "execution_count": 20,
   "id": "f0c3ad6a-d26c-4fdb-b66c-149884ec3c4c",
   "metadata": {},
   "outputs": [],
   "source": [
    "R_2=[]\n",
    "pipe = Pipeline([('ss',StandardScaler() ),('lr', LinearRegression())])\n",
    "\n",
    "for feature in features:\n",
    "    pipe.fit(X_train[[feature]], y_train)\n",
    "    R_2.append(pipe.score(X_train[[feature]], y_train))"
   ]
  },
  {
   "cell_type": "markdown",
   "id": "54ca14e9-0d6b-4273-89c5-32640762d1d0",
   "metadata": {},
   "source": [
    "<br>\n",
    "\n",
    "<div style=\"color:#A9CCE3; font-size:1.5em\">\n",
    "    \n",
    "We can plot the $R^{2}$ for each feature:\n",
    "    \n",
    "<div>"
   ]
  },
  {
   "cell_type": "code",
   "execution_count": 21,
   "id": "d29b576a-198f-46d5-b2a1-eeebdcd7fe62",
   "metadata": {},
   "outputs": [
    {
     "data": {
      "image/png": "[encoded data removed]",
      "text/plain": [
       "<Figure size 432x288 with 1 Axes>"
      ]
     },
     "metadata": {
      "needs_background": "light"
     },
     "output_type": "display_data"
    }
   ],
   "source": [
    "plt.bar(features,R_2)\n",
    "plt.xticks(rotation=90)\n",
    "plt.ylabel(\"$R^2$\")\n",
    "plt.show()"
   ]
  },
  {
   "cell_type": "markdown",
   "id": "2e935503-75d9-45cf-b38a-9c2cf42e7643",
   "metadata": {},
   "source": [
    "<br>\n",
    "\n",
    "<div style=\"color:#A9CCE3; font-size:1.5em\">\n",
    "    \n",
    "Now, we select the feature that works best, using `argmax()` function.\n",
    "    \n",
    "<div>"
   ]
  },
  {
   "cell_type": "code",
   "execution_count": 22,
   "id": "c08ac70a-e12c-44ae-a38d-9302a99863c9",
   "metadata": {},
   "outputs": [
    {
     "data": {
      "text/plain": [
       "'enginesize'"
      ]
     },
     "execution_count": 22,
     "metadata": {},
     "output_type": "execute_result"
    }
   ],
   "source": [
    "best=features[np.argmax(R_2)]\n",
    "best"
   ]
  },
  {
   "cell_type": "markdown",
   "id": "d0d8e634-20c3-4c55-8012-c90df7888b19",
   "metadata": {},
   "source": [
    "<br>\n",
    "\n",
    "<div style=\"color:#A9CCE3; font-size:1.5em\">\n",
    "    \n",
    "So, 'enginesize' is the feature that produces the highest $R^{2}$. We then train the feature that works best using all the data.\n",
    "    \n",
    "<div>"
   ]
  },
  {
   "cell_type": "code",
   "execution_count": 23,
   "id": "fb36fc63-9982-4ac0-9509-52dfa0cfbb29",
   "metadata": {},
   "outputs": [
    {
     "data": {
      "text/plain": [
       "Pipeline(steps=[('ss', StandardScaler()), ('lr', LinearRegression())])"
      ]
     },
     "execution_count": 23,
     "metadata": {},
     "output_type": "execute_result"
    }
   ],
   "source": [
    "pipe.fit(X[[best]],y)"
   ]
  },
  {
   "cell_type": "markdown",
   "id": "b0b4a5b2-f6e9-4dc1-8bd9-714bde92b57f",
   "metadata": {},
   "source": [
    "\n",
    "<h2 style=\"color:salmon;\"> Exercise 2</h2>\n",
    "    \n",
    "<div style=\"color:#A9CCE3; font-size:1.5em\">\n",
    "    \n",
    "Find the best feature using the test data, without standardization.\n",
    "    \n",
    "<div>"
   ]
  },
  {
   "cell_type": "code",
   "execution_count": 37,
   "id": "eafa79df-ac2f-4204-a82c-8aa82a170eaa",
   "metadata": {},
   "outputs": [
    {
     "name": "stdout",
     "output_type": "stream",
     "text": [
      "\n",
      "Best feature using test data w/o standardization:\t enginesize \n",
      "\n"
     ]
    },
    {
     "data": {
      "image/png": "[encoded data removed]",
      "text/plain": [
       "<Figure size 720x504 with 1 Axes>"
      ]
     },
     "metadata": {
      "needs_background": "light"
     },
     "output_type": "display_data"
    }
   ],
   "source": [
    "R_2=[]\n",
    "\n",
    "for feature in features:\n",
    "    lr.fit(X_train[[feature]], y_train)\n",
    "    R_2.append(lr.score(X_test[[feature]],y_test))\n",
    "\n",
    "best = features[np.argmax(R_2)]\n",
    "print(\"\\nBest feature using test data w/o standardization:\\t\", best, \"\\n\")\n",
    "\n",
    "best_index = np.argmax(R_2)\n",
    "\n",
    "fig, ax = plt.subplots(figsize=(10, 7))\n",
    "bars = ax.bar(features, R_2)\n",
    "plt.xticks(rotation=90)\n",
    "plt.ylabel(\"$R^2$\")\n",
    "\n",
    "# Conditional formatting for best bar\n",
    "for i in range(len(bars)):\n",
    "    if R_2[i] == R_2[best_index]:\n",
    "        bars[i].set_color('cyan')\n",
    "\n",
    "plt.show()"
   ]
  },
  {
   "cell_type": "markdown",
   "id": "b1c0b1a3-14f9-4b23-8340-8bf15d6c549f",
   "metadata": {},
   "source": [
    "\n",
    "<h1 style=\"color:salmon;\"> K Fold Cross Validation</h1>\n",
    "    \n",
    "<div style=\"color:#A9CCE3; font-size:1.5em\">\n",
    "    \n",
    "Cross-validation is a resampling procedure used to evaluate machine learning models on a limited data sample.\n",
    "\n",
    "The procedure has a single parameter called k that refers to the number of groups that a given data sample is to be split into. As such, the procedure is often called k-fold cross-validation. When a specific value for k is chosen, it may be used in place of k in the reference to the model, such as k=5 becoming 5-fold cross-validation, as shown in the Diagram below. In this case, we would use K-1 (or 4 folds) for testing a 1 fold for training. K-fold is also used for hyper-parameters selection that we will discuss later.\n",
    "\n",
    "<center>\n",
    "    <img src=\"https://cf-courses-data.s3.us.cloud-object-storage.appdomain.cloud/IBM-ML240EN-SkillsNetwork/images/k-fold.png\"  />\n",
    "</center>\n",
    "    \n",
    "<div>"
   ]
  },
  {
   "cell_type": "markdown",
   "id": "9f7f1f34-83c1-4371-9770-64e353213111",
   "metadata": {},
   "source": [
    "<h2 style=\"color:salmon;\"> Cross Validation Score</h2>\n",
    "    \n",
    "<div style=\"color:#A9CCE3; font-size:1.5em\">\n",
    "    \n",
    "Now, let's use *Scikit-Learn's* *K-fold cross-validation* method to see whether we can assess the performance of our model. The *K-fold cross-validation* method splits the training set into the number of folds (n_splits), as now in the Diagram above, if we have K folds, K-1 is used for training and one fold is used for testing. The input parameters are as follows:\n",
    "    \n",
    "<b><span style=\"color:#C39BD3;\">estimatorestimator</span></b>: The object to use to `fit` the data.<br>\n",
    "<b><span style=\"color:#C39BD3;\">X</span></b>: array-like of shape (n_samples, n_features). The data to fit. Can be for example a list, or an array.<br>\n",
    "<b><span style=\"color:#C39BD3;\">y</span></b>: array-like of shape (n_samples,) or (n_samples, n_outputs), default=None. The target variable to try to predict in the case of supervised learning.<br>\n",
    "<b><span style=\"color:#C39BD3;\">scoring</span></b>: A str or a scorer callable object/ function with signature scorer (estimator, X, y) which should return only a single value.  See model evaluation \n",
    "    \n",
    "<div>"
   ]
  },
  {
   "cell_type": "code",
   "execution_count": 38,
   "id": "89ce7f04-3651-48d2-9b98-075f094fac79",
   "metadata": {},
   "outputs": [
    {
     "data": {
      "text/plain": [
       "205"
      ]
     },
     "execution_count": 38,
     "metadata": {},
     "output_type": "execute_result"
    }
   ],
   "source": [
    "N=len(X)\n",
    "N"
   ]
  },
  {
   "cell_type": "code",
   "execution_count": 39,
   "id": "a4f9fcd1-e99d-4a0a-9780-64ca41115a30",
   "metadata": {},
   "outputs": [
    {
     "data": {
      "text/plain": [
       "array([ 0.81508001,  0.7238302 , -0.0913317 ])"
      ]
     },
     "execution_count": 39,
     "metadata": {},
     "output_type": "execute_result"
    }
   ],
   "source": [
    "# create a Linear Regression object\n",
    "lr = LinearRegression()\n",
    "# calculate cross validation scores based on our testing sets\n",
    "scores = cross_val_score(lr, X, y, scoring =\"r2\", cv=3)\n",
    "scores"
   ]
  },
  {
   "cell_type": "markdown",
   "id": "0e5dbdd2-155a-431b-bc6b-792a636ac1c6",
   "metadata": {},
   "source": [
    "\n",
    "<div style=\"color:#A9CCE3; font-size:1.5em\">\n",
    "    \n",
    "We can calculate mean and standard deviation using the following function of the `scores`:\n",
    "\n",
    "    \n",
    "<div>"
   ]
  },
  {
   "cell_type": "code",
   "execution_count": 40,
   "id": "197de7ac-4819-4fbe-b6df-058b40e12ec4",
   "metadata": {},
   "outputs": [
    {
     "name": "stdout",
     "output_type": "stream",
     "text": [
      "Scores: [ 0.81508001  0.7238302  -0.0913317 ]\n",
      "Mean: 0.4825261694103302\n",
      "Standard deviation: 0.40748519272512795\n"
     ]
    }
   ],
   "source": [
    "def display_scores(scores, print_=False):\n",
    "    \n",
    "    print(\"Scores:\", scores)\n",
    "    print(\"Mean:\", scores.mean())\n",
    "    print(\"Standard deviation:\", scores.std())\n",
    "    \n",
    "display_scores(scores)"
   ]
  },
  {
   "cell_type": "markdown",
   "id": "d7635b83-e79b-4639-97fe-63371d3025d7",
   "metadata": {},
   "source": [
    "\n",
    "<div style=\"color:#A9CCE3; font-size:1.5em\">\n",
    "    \n",
    "The larger the fold, the better the model performance is, as we are using more samples for training; the variance also decreases.<br>\n",
    "Cross Validation Scores are RMSE values for training the data on each of our folds, in our case cv = 3, so we get 3 scores, 1 for each fold.\n",
    "    \n",
    "<div>"
   ]
  },
  {
   "cell_type": "markdown",
   "id": "c2925ff7-764d-49b8-a1a4-7bc94de482e1",
   "metadata": {},
   "source": [
    "\n",
    "\n",
    "<h2 style=\"color:salmon;\"> Exercise 3</h2>\n",
    "    \n",
    "<div style=\"color:#A9CCE3; font-size:1.5em\">\n",
    "    \n",
    "Compute the cross validation scores for 5 folds, using the linear regression object `lr` and `neg_mean_squared_error` method for scoring.\n",
    "    \n",
    "<div>"
   ]
  },
  {
   "cell_type": "code",
   "execution_count": 44,
   "id": "57821272-e69b-4337-968e-f010ad085c17",
   "metadata": {},
   "outputs": [
    {
     "name": "stdout",
     "output_type": "stream",
     "text": [
      "Scores: [ 3155.3045326  11345.67407101  3025.79039538  5629.2248323\n",
      "  5549.16298134]\n",
      "Mean: 5741.031362524296\n",
      "Standard deviation: 3017.2786021293505\n"
     ]
    }
   ],
   "source": [
    "lr = LinearRegression()\n",
    "scores5 = cross_val_score(lr, X, y, scoring='neg_mean_squared_error', cv=5)\n",
    "scores5 = np.sqrt(-scores5)\n",
    "\n",
    "display_scores(scores5)"
   ]
  },
  {
   "cell_type": "markdown",
   "id": "1e235399-4fd5-42b9-a15e-11e475277862",
   "metadata": {},
   "source": [
    "<h2 style=\"color:salmon;\"> K Fold</h2>\n",
    "    \n",
    "<div style=\"color:#A9CCE3; font-size:1.5em\">\n",
    "    \n",
    "In many cases, we would like to train models that are not available in Scikit-learn or are too large to fit in the memory. We can create a `KFold` object that  Provides train/test indices to split data into train/test sets in an iterative manner.\n",
    "\n",
    "`n_splitsint`:  A number of folds. Must be at least 2. Changed in version 0.22: n_splits default value changed from 3 to 5.<br>\n",
    "`shuffle`: Indicates whether to shuffle the data before splitting into batches. Note, the samples within each split will not be shuffled.<br>\n",
    "`random_state`: the random state.\n",
    "    \n",
    "<div>"
   ]
  },
  {
   "cell_type": "code",
   "execution_count": 45,
   "id": "3cb8d61a-cc0d-4bf1-9163-60d4f6fcfcb2",
   "metadata": {},
   "outputs": [],
   "source": [
    "# We create the  `KFold` object `kf`, setting the number of splits to 2.\n",
    "n_splits=2\n",
    "kf = KFold(n_splits = n_splits)"
   ]
  },
  {
   "cell_type": "markdown",
   "id": "570f9190-e267-4754-8b53-89d58136c11f",
   "metadata": {},
   "source": [
    "    \n",
    "<div style=\"color:#A9CCE3; font-size:1.5em\">\n",
    "    \n",
    "We train the model using the `split(X,y)` method. It provides the train/test indices for `X` and `y`. Half the data is used for training in the first iteration, and the rest is used for testing and displaying the indexes for each set.  For the second iteration, the data used for training is used for testing, and the testing data is used for training. We store the $R^2$ for each iteration in the array  `R_2`. The `np.zeros()` function returns a new array of given shape and type, filled with zeros. Then, we calculate the $R^2$ for each of the X_train and X_test splits.\n",
    "    \n",
    "<div>"
   ]
  },
  {
   "cell_type": "code",
   "execution_count": 46,
   "id": "d5f0c540-b348-4511-bb37-851e2b757fe5",
   "metadata": {},
   "outputs": [
    {
     "name": "stdout",
     "output_type": "stream",
     "text": [
      "TRAIN: [103 104 105 106 107 108 109 110 111 112 113 114 115 116 117 118 119 120\n",
      " 121 122 123 124 125 126 127 128 129 130 131 132 133 134 135 136 137 138\n",
      " 139 140 141 142 143 144 145 146 147 148 149 150 151 152 153 154 155 156\n",
      " 157 158 159 160 161 162 163 164 165 166 167 168 169 170 171 172 173 174\n",
      " 175 176 177 178 179 180 181 182 183 184 185 186 187 188 189 190 191 192\n",
      " 193 194 195 196 197 198 199 200 201 202 203 204]\n",
      "TEST: [  0   1   2   3   4   5   6   7   8   9  10  11  12  13  14  15  16  17\n",
      "  18  19  20  21  22  23  24  25  26  27  28  29  30  31  32  33  34  35\n",
      "  36  37  38  39  40  41  42  43  44  45  46  47  48  49  50  51  52  53\n",
      "  54  55  56  57  58  59  60  61  62  63  64  65  66  67  68  69  70  71\n",
      "  72  73  74  75  76  77  78  79  80  81  82  83  84  85  86  87  88  89\n",
      "  90  91  92  93  94  95  96  97  98  99 100 101 102]\n",
      "TRAIN: [  0   1   2   3   4   5   6   7   8   9  10  11  12  13  14  15  16  17\n",
      "  18  19  20  21  22  23  24  25  26  27  28  29  30  31  32  33  34  35\n",
      "  36  37  38  39  40  41  42  43  44  45  46  47  48  49  50  51  52  53\n",
      "  54  55  56  57  58  59  60  61  62  63  64  65  66  67  68  69  70  71\n",
      "  72  73  74  75  76  77  78  79  80  81  82  83  84  85  86  87  88  89\n",
      "  90  91  92  93  94  95  96  97  98  99 100 101 102]\n",
      "TEST: [103 104 105 106 107 108 109 110 111 112 113 114 115 116 117 118 119 120\n",
      " 121 122 123 124 125 126 127 128 129 130 131 132 133 134 135 136 137 138\n",
      " 139 140 141 142 143 144 145 146 147 148 149 150 151 152 153 154 155 156\n",
      " 157 158 159 160 161 162 163 164 165 166 167 168 169 170 171 172 173 174\n",
      " 175 176 177 178 179 180 181 182 183 184 185 186 187 188 189 190 191 192\n",
      " 193 194 195 196 197 198 199 200 201 202 203 204]\n"
     ]
    }
   ],
   "source": [
    "y = data['price'].copy()\n",
    "X = data.drop(columns=['price'])\n",
    "R_2 = np.zeros((n_splits,1))\n",
    "pipe = Pipeline([('ss',StandardScaler() ),('lr', LinearRegression())])\n",
    "n = 0\n",
    "\n",
    "for k,(train_index, test_index) in enumerate(kf.split(X,y)):\n",
    "    print(\"TRAIN:\", train_index)\n",
    "    print(\"TEST:\", test_index)\n",
    "    X_train, X_test = X.iloc[train_index], X.iloc[test_index]\n",
    "    \n",
    "    y_train, y_test = y[train_index], y[test_index]\n",
    "    pipe.fit(X_train, y_train)\n",
    "    n += 1\n",
    "    R_2[k]=pipe.score(X_test, y_test)"
   ]
  },
  {
   "cell_type": "markdown",
   "id": "722b2135-df5d-4897-a3e3-8efc6ec01a6e",
   "metadata": {},
   "source": [
    "    \n",
    "<div style=\"color:#A9CCE3; font-size:1.5em\">\n",
    "<br>    \n",
    "We can calculate the average $R^2$:\n",
    "\n",
    "    \n",
    "<div>"
   ]
  },
  {
   "cell_type": "code",
   "execution_count": 47,
   "id": "89470b8a-0552-4264-8b2f-348b3ba7622d",
   "metadata": {},
   "outputs": [
    {
     "data": {
      "text/plain": [
       "0.39256530180315163"
      ]
     },
     "execution_count": 47,
     "metadata": {},
     "output_type": "execute_result"
    }
   ],
   "source": [
    "R_2.mean()"
   ]
  },
  {
   "cell_type": "markdown",
   "id": "0e727b51-78fb-4c9b-8628-811133d01c98",
   "metadata": {},
   "source": [
    "    \n",
    "<div style=\"color:#A9CCE3; font-size:1.5em\">\n",
    "<br>    \n",
    "If we set the number of splits to three, we see 2/3's of the data is used for training.\n",
    "\n",
    "    \n",
    "<div>"
   ]
  },
  {
   "cell_type": "code",
   "execution_count": 48,
   "id": "795f1ed5-d58a-4411-86c0-ee74096a42fd",
   "metadata": {},
   "outputs": [
    {
     "name": "stdout",
     "output_type": "stream",
     "text": [
      "TRAIN: [ 69  70  71  72  73  74  75  76  77  78  79  80  81  82  83  84  85  86\n",
      "  87  88  89  90  91  92  93  94  95  96  97  98  99 100 101 102 103 104\n",
      " 105 106 107 108 109 110 111 112 113 114 115 116 117 118 119 120 121 122\n",
      " 123 124 125 126 127 128 129 130 131 132 133 134 135 136 137 138 139 140\n",
      " 141 142 143 144 145 146 147 148 149 150 151 152 153 154 155 156 157 158\n",
      " 159 160 161 162 163 164 165 166 167 168 169 170 171 172 173 174 175 176\n",
      " 177 178 179 180 181 182 183 184 185 186 187 188 189 190 191 192 193 194\n",
      " 195 196 197 198 199 200 201 202 203 204]\n",
      "TEST: [ 0  1  2  3  4  5  6  7  8  9 10 11 12 13 14 15 16 17 18 19 20 21 22 23\n",
      " 24 25 26 27 28 29 30 31 32 33 34 35 36 37 38 39 40 41 42 43 44 45 46 47\n",
      " 48 49 50 51 52 53 54 55 56 57 58 59 60 61 62 63 64 65 66 67 68]\n",
      "TRAIN: [  0   1   2   3   4   5   6   7   8   9  10  11  12  13  14  15  16  17\n",
      "  18  19  20  21  22  23  24  25  26  27  28  29  30  31  32  33  34  35\n",
      "  36  37  38  39  40  41  42  43  44  45  46  47  48  49  50  51  52  53\n",
      "  54  55  56  57  58  59  60  61  62  63  64  65  66  67  68 137 138 139\n",
      " 140 141 142 143 144 145 146 147 148 149 150 151 152 153 154 155 156 157\n",
      " 158 159 160 161 162 163 164 165 166 167 168 169 170 171 172 173 174 175\n",
      " 176 177 178 179 180 181 182 183 184 185 186 187 188 189 190 191 192 193\n",
      " 194 195 196 197 198 199 200 201 202 203 204]\n",
      "TEST: [ 69  70  71  72  73  74  75  76  77  78  79  80  81  82  83  84  85  86\n",
      "  87  88  89  90  91  92  93  94  95  96  97  98  99 100 101 102 103 104\n",
      " 105 106 107 108 109 110 111 112 113 114 115 116 117 118 119 120 121 122\n",
      " 123 124 125 126 127 128 129 130 131 132 133 134 135 136]\n",
      "TRAIN: [  0   1   2   3   4   5   6   7   8   9  10  11  12  13  14  15  16  17\n",
      "  18  19  20  21  22  23  24  25  26  27  28  29  30  31  32  33  34  35\n",
      "  36  37  38  39  40  41  42  43  44  45  46  47  48  49  50  51  52  53\n",
      "  54  55  56  57  58  59  60  61  62  63  64  65  66  67  68  69  70  71\n",
      "  72  73  74  75  76  77  78  79  80  81  82  83  84  85  86  87  88  89\n",
      "  90  91  92  93  94  95  96  97  98  99 100 101 102 103 104 105 106 107\n",
      " 108 109 110 111 112 113 114 115 116 117 118 119 120 121 122 123 124 125\n",
      " 126 127 128 129 130 131 132 133 134 135 136]\n",
      "TEST: [137 138 139 140 141 142 143 144 145 146 147 148 149 150 151 152 153 154\n",
      " 155 156 157 158 159 160 161 162 163 164 165 166 167 168 169 170 171 172\n",
      " 173 174 175 176 177 178 179 180 181 182 183 184 185 186 187 188 189 190\n",
      " 191 192 193 194 195 196 197 198 199 200 201 202 203 204]\n"
     ]
    },
    {
     "data": {
      "text/plain": [
       "0.47719341451693237"
      ]
     },
     "execution_count": 48,
     "metadata": {},
     "output_type": "execute_result"
    }
   ],
   "source": [
    "n_splits = 3\n",
    "kf = KFold(n_splits = n_splits)\n",
    "y = data['price'].copy()\n",
    "X = data.drop(columns=['price'])\n",
    "R_2 = np.zeros((n_splits, 1))\n",
    "pipe = Pipeline([('ss',StandardScaler() ),('lr', LinearRegression())])\n",
    "n = 0\n",
    "for k,(train_index, test_index) in enumerate(kf.split(X,y)):\n",
    "    print(\"TRAIN:\", train_index)\n",
    "    print(\"TEST:\", test_index)\n",
    "    X_train, X_test = X.iloc[train_index], X.iloc[test_index]\n",
    "    \n",
    "    y_train, y_test = y[train_index], y[test_index]\n",
    "    pipe.fit(X_train, y_train)\n",
    "    n += 1\n",
    "    R_2[k] = pipe.score(X_test, y_test)\n",
    "    \n",
    "    \n",
    "R_2.mean()"
   ]
  },
  {
   "cell_type": "markdown",
   "id": "b00f1ea4-1a1d-4a9a-bec8-656ae6828fe3",
   "metadata": {
    "tags": []
   },
   "source": [
    "\n",
    "\n",
    "<h2 style=\"color:salmon;\"> Exercise 4</h2>\n",
    "    \n",
    "<div style=\"color:#A9CCE3; font-size:1.5em\">\n",
    "    \n",
    "It many applications, it is useful to randomly select samples for K fold cross validation. In this Exercise, randomly select samples by setting `shuffle` to `True` in the `KFold` constructor. Use all the parameters, as above.\n",
    "    \n",
    "<div>"
   ]
  },
  {
   "cell_type": "code",
   "execution_count": 49,
   "id": "50b29624-c03b-447a-a11c-0ef90aa7c90c",
   "metadata": {},
   "outputs": [
    {
     "name": "stdout",
     "output_type": "stream",
     "text": [
      "TRAIN: [  0   1   2   3   4   6   7   8  10  11  13  14  17  20  21  22  23  26\n",
      "  27  28  32  33  34  36  37  39  40  41  42  43  44  46  47  48  49  50\n",
      "  51  52  53  54  57  58  59  61  62  63  64  70  71  72  74  77  78  80\n",
      "  81  83  85  87  88  89  91  92  94  99 102 103 105 106 107 108 109 110\n",
      " 113 114 115 116 117 118 119 121 122 123 124 126 127 129 130 131 133 134\n",
      " 135 136 137 138 140 141 142 148 149 150 151 155 156 157 158 160 161 163\n",
      " 165 166 169 170 171 172 176 179 180 181 183 184 185 186 187 188 189 190\n",
      " 192 193 196 197 198 199 200 201 203 204]\n",
      "TEST: [  5   9  12  15  16  18  19  24  25  29  30  31  35  38  45  55  56  60\n",
      "  65  66  67  68  69  73  75  76  79  82  84  86  90  93  95  96  97  98\n",
      " 100 101 104 111 112 120 125 128 132 139 143 144 145 146 147 152 153 154\n",
      " 159 162 164 167 168 173 174 175 177 178 182 191 194 195 202]\n",
      "TRAIN: [  1   3   5   7   8   9  12  13  14  15  16  17  18  19  20  21  24  25\n",
      "  29  30  31  34  35  37  38  43  45  48  49  50  52  53  54  55  56  57\n",
      "  58  59  60  63  65  66  67  68  69  71  72  73  74  75  76  79  80  82\n",
      "  83  84  86  87  88  89  90  91  92  93  95  96  97  98  99 100 101 102\n",
      " 103 104 105 106 107 110 111 112 116 120 121 125 128 129 130 131 132 133\n",
      " 134 139 142 143 144 145 146 147 149 151 152 153 154 157 158 159 160 161\n",
      " 162 164 167 168 169 171 173 174 175 176 177 178 179 180 181 182 185 186\n",
      " 188 190 191 193 194 195 197 198 201 202 204]\n",
      "TEST: [  0   2   4   6  10  11  22  23  26  27  28  32  33  36  39  40  41  42\n",
      "  44  46  47  51  61  62  64  70  77  78  81  85  94 108 109 113 114 115\n",
      " 117 118 119 122 123 124 126 127 135 136 137 138 140 141 148 150 155 156\n",
      " 163 165 166 170 172 183 184 187 189 192 196 199 200 203]\n",
      "TRAIN: [  0   2   4   5   6   9  10  11  12  15  16  18  19  22  23  24  25  26\n",
      "  27  28  29  30  31  32  33  35  36  38  39  40  41  42  44  45  46  47\n",
      "  51  55  56  60  61  62  64  65  66  67  68  69  70  73  75  76  77  78\n",
      "  79  81  82  84  85  86  90  93  94  95  96  97  98 100 101 104 108 109\n",
      " 111 112 113 114 115 117 118 119 120 122 123 124 125 126 127 128 132 135\n",
      " 136 137 138 139 140 141 143 144 145 146 147 148 150 152 153 154 155 156\n",
      " 159 162 163 164 165 166 167 168 170 172 173 174 175 177 178 182 183 184\n",
      " 187 189 191 192 194 195 196 199 200 202 203]\n",
      "TEST: [  1   3   7   8  13  14  17  20  21  34  37  43  48  49  50  52  53  54\n",
      "  57  58  59  63  71  72  74  80  83  87  88  89  91  92  99 102 103 105\n",
      " 106 107 110 116 121 129 130 131 133 134 142 149 151 157 158 160 161 169\n",
      " 171 176 179 180 181 185 186 188 190 193 197 198 201 204]\n"
     ]
    },
    {
     "data": {
      "text/plain": [
       "0.6904823744622521"
      ]
     },
     "execution_count": 49,
     "metadata": {},
     "output_type": "execute_result"
    }
   ],
   "source": [
    "n_splits = 3\n",
    "kf = KFold(n_splits=n_splits, shuffle=True, random_state=42)\n",
    "y = data['price'].copy()\n",
    "X = data.drop(columns=['price'])\n",
    "R_2 = np.zeros((n_splits, 1))\n",
    "pipe = Pipeline([('ss', StandardScaler()), ('lr', LinearRegression())])\n",
    "n = 0\n",
    "for k, (train_index, test_index) in enumerate(kf.split(X, y)):\n",
    "    print(\"TRAIN:\", train_index)\n",
    "    print(\"TEST:\", test_index)\n",
    "    X_train, X_test = X.iloc[train_index], X.iloc[test_index]\n",
    "    y_train, y_test = y[train_index], y[test_index]\n",
    "    pipe.fit(X_train, y_train)\n",
    "    n += 1\n",
    "    R_2[k] = pipe.score(X_test, y_test)\n",
    "\n",
    "R_2.mean()\n"
   ]
  },
  {
   "cell_type": "code",
   "execution_count": null,
   "id": "c74a245c-aa56-40c9-b461-5aaeca0db2fb",
   "metadata": {},
   "outputs": [],
   "source": []
  }
 ],
 "metadata": {
  "kernelspec": {
   "display_name": "Python 3 (ipykernel)",
   "language": "python",
   "name": "python3"
  },
  "language_info": {
   "codemirror_mode": {
    "name": "ipython",
    "version": 3
   },
   "file_extension": ".py",
   "mimetype": "text/x-python",
   "name": "python",
   "nbconvert_exporter": "python",
   "pygments_lexer": "ipython3",
   "version": "3.9.12"
  }
 },
 "nbformat": 4,
 "nbformat_minor": 5
}
